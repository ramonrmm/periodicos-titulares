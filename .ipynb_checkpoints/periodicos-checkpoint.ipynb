{
 "cells": [
  {
   "cell_type": "markdown",
   "id": "365b83d1-bf3f-4919-b581-9ab746c93313",
   "metadata": {},
   "source": [
    "# Consulta de titulares de los periódicos\n",
    "Mediante las librerías Requests y BeautifulSoup se hace webscraping a los periódicos más destacados en España para mostrar el titular principal con el que abren sus portadas. El resultado, además de imprimirlo por pantalla, lo grabamos en un archivo.\n",
    "\n",
    "**NOTA IMPORTANTE**. Muchos diarios tienen en su aviso legal o en sus robots.txt la prohibición de hacer web scraping a sus contenido. Con este pequeño programa solo se muestra, solo a efectos didácticos, cómo usar los comandos y funciones de Python en este sentido."
   ]
  },
  {
   "cell_type": "code",
   "execution_count": 3,
   "id": "a51bc1a7-7274-42eb-9d25-04d9aab815a5",
   "metadata": {},
   "outputs": [],
   "source": [
    "import requests # Para hacer la consulta\n",
    "from IPython.display import display, HTML # Para mostrar html en celdas de Jupiter Labs\n",
    "from datetime import datetime, timedelta # Para menejar fechas en Python\n",
    "from babel.dates import format_date # Para convertir las fechas a español\n",
    "from bs4 import BeautifulSoup #Para tratar el html de cada periódico\n",
    "import re # Para manejar expresiones regulares"
   ]
  },
  {
   "cell_type": "code",
   "execution_count": 4,
   "id": "8ca771ec-5d3d-412f-b6c9-36a70dcf6870",
   "metadata": {},
   "outputs": [],
   "source": [
    "periodicos = {\n",
    "    'El País': 'https://elpais.com/', \n",
    "    'El Mundo':'https://www.elmundo.es/', \n",
    "    'El Español':'https://www.elespanol.com/', \n",
    "    'El Periódico de España':'https://www.epe.es/es/',\n",
    "    'ABC':'https://www.abc.es/', \n",
    "    'La Vanguardia':'https://www.lavanguardia.com/', \n",
    "    'El Periódico':'https://www.elperiodico.com/es/', \n",
    "    'El Confidencial':'https://www.elconfidencial.com/', \n",
    "    '20 Minutos':'https://www.20minutos.es/', \n",
    "    'La Razón':'https://www.larazon.es/', \n",
    "    'elDiario.es':'https://www.eldiario.es/', \n",
    "    'Público':'https://www.publico.es/', \n",
    "    'Infolibre':'https://www.infolibre.es/', \n",
    "    'El Independiente':'https://www.elindependiente.com/', \n",
    "    'El Correo de Andalucía':'https://www.elcorreoweb.es', \n",
    "    'Diario de Sevilla':'https://www.diariodesevilla.es/', \n",
    "    'ABC de Sevilla':'https://www.abc.es/sevilla/'\n",
    "}\n",
    "headers = {\n",
    "    \"User-Agent\": \"Mozilla/5.0 (Windows NT 10.0; Win64; x64) AppleWebKit/537.36 (KHTML, like Gecko) Chrome/119.0.0.0 Safari/537.36\"\n",
    "}"
   ]
  },
  {
   "cell_type": "markdown",
   "id": "2da29f34-f84a-4df8-b29c-38981b577ccc",
   "metadata": {},
   "source": [
    "### Consultar primero qué etiquetas o clases tienen los titulares\n",
    "Hay que entrar en cada web y ver con qué etiqueta (h1, h2,...) y dentro como se configura en el html. Por ejemplo, si es el primer h1 de la página (o h2), si tiene etiquetas adicionales dentro, clases, etc. para hacer la búsqueda y el muestreo correcto del titular."
   ]
  },
  {
   "cell_type": "markdown",
   "id": "24ab5fcd-2cba-46f1-aa1d-7bf7e8f9b5a0",
   "metadata": {},
   "source": [
    "**Función consultar_titular(a,b)**. Esta función recibe dos argumentos string: el nombre del periódico y la URL. El resultado es que muestra el nombre del periódico y el titular principal. Aquí hacemos el request y con la respuesta y BeautifulSoup encontramos el titular. No retorna nada, solo hace toda la gestión y muestra el titular."
   ]
  },
  {
   "cell_type": "code",
   "execution_count": 7,
   "id": "95f6b737-2b4f-4ebe-b949-422859808963",
   "metadata": {},
   "outputs": [],
   "source": [
    "def consultar_titular(a,b):\n",
    "    response = requests.get(b,headers=headers)\n",
    "    soup = BeautifulSoup(response.text,'html5lib')\n",
    "    if a == \"El Mundo\":\n",
    "        titular = soup.find_all('h2',class_='ue-c-cover-content__headline')[0].text\n",
    "        enlace = soup.find_all('h2',class_='ue-c-cover-content__headline')[0].parent.get('href')\n",
    "    elif a == \"El Español\" or a == \"Diario de Sevilla\":\n",
    "        titular = soup.find_all('h2')[0].text.strip()\n",
    "        if a == \"El Español\":\n",
    "            enlace = 'https://www.elespanol.com' + soup.find_all('h2')[0].a.get('href')\n",
    "        else:\n",
    "            enlace = soup.find_all('h2')[0].parent.get('href')\n",
    "    elif a == \"El Correo de Andalucía\" or a == \"El Confidencial\":\n",
    "        titular = soup.find_all('h1')[1].text.strip()\n",
    "        enlace = soup.find_all('h1')[1].parent.get('href')\n",
    "    elif a == \"20 Minutos\":\n",
    "        titular = soup.find_all('h1', id='')[0].a.text.strip()\n",
    "        enlace = soup.find_all('h1', id='')[0].a.get('href')\n",
    "    elif a == \"La Razón\":\n",
    "        titular = soup.find_all('h2',class_='article__title')[0].a.text.strip()\n",
    "        enlace = soup.find_all('h2',class_='article__title')[0].a.get('href')\n",
    "    elif a == \"Infolibre\":\n",
    "        titular = soup.find_all('h1')[0].text.strip()\n",
    "        enlace = 'https://www.infolibre.es' + soup.find_all('h1')[0].a.get('href')\n",
    "    else:\n",
    "        titular = soup.find_all('h2')[0].a.text.strip()\n",
    "        if a == \"El Periódico de España\":\n",
    "            enlace = 'https://www.epe.es' + soup.find_all('h2')[0].a.get('href')\n",
    "        elif a == \"La Vanguardia\": \n",
    "            enlace = 'https://www.lavanguardia.com' + soup.find_all('h2')[0].a.get('href')\n",
    "        elif a == \"El Periódico\":\n",
    "            enlace = 'https://wwwelperiodico.com/es' + soup.find_all('h2')[0].a.get('href')\n",
    "        elif a == \"elDiario.es\":\n",
    "            enlace = 'https://www.eldiario.es' + soup.find_all('h2')[0].a.get('href')\n",
    "        elif a == \"Público\":\n",
    "            enlace = 'https://www.publico.es/' + soup.find_all('h2')[0].a.get('href')\n",
    "        else:\n",
    "            enlace = soup.find_all('h2')[0].a.get('href')\n",
    "            \n",
    "    display(HTML(f'<h3>{a}</h3>'))\n",
    "    display(HTML(f'<h5 style=\"line-height:1.6\">{titular}</h5>'))\n",
    "    display(HTML(f'<a href=\"{enlace}\" target=\"_blank\">{enlace}</a>'))\n",
    "    display(HTML(f'<hr>'))\n",
    "    return    "
   ]
  },
  {
   "cell_type": "code",
   "execution_count": 8,
   "id": "20ca19c9-c44a-4e35-b054-c001725e32e2",
   "metadata": {},
   "outputs": [],
   "source": [
    "# Función que devuelve la fecha de hoy en español\n",
    "# Ejemplo: lunes 3 de febrero de 2025\n",
    "def hoy():\n",
    "    hoy = datetime.now()\n",
    "    fecha_español = format_date(hoy, format=\"full\", locale=\"es\")\n",
    "    return fecha_español"
   ]
  },
  {
   "cell_type": "markdown",
   "id": "b1e1cf0d-aa39-4f65-8a76-5c9aec22d58d",
   "metadata": {},
   "source": [
    "**Bloque principal**. Mediante un bucle se va recorriendo el diccionario de periódicos y llamando a la función correspondiente para que haga el request y muestre el titular."
   ]
  },
  {
   "cell_type": "code",
   "execution_count": 10,
   "id": "875a1d30-6015-44a7-a970-88b20b445406",
   "metadata": {},
   "outputs": [
    {
     "data": {
      "text/html": [
       "<h2>Titulares del viernes, 7 de febrero de 2025</h2>"
      ],
      "text/plain": [
       "<IPython.core.display.HTML object>"
      ]
     },
     "metadata": {},
     "output_type": "display_data"
    },
    {
     "data": {
      "text/html": [
       "<h3>El País</h3>"
      ],
      "text/plain": [
       "<IPython.core.display.HTML object>"
      ]
     },
     "metadata": {},
     "output_type": "display_data"
    },
    {
     "data": {
      "text/html": [
       "<h5 style=\"line-height:1.6\">La reforma de la dependencia elimina la incompatibilidad de prestaciones</h5>"
      ],
      "text/plain": [
       "<IPython.core.display.HTML object>"
      ]
     },
     "metadata": {},
     "output_type": "display_data"
    },
    {
     "data": {
      "text/html": [
       "<a href=\"https://elpais.com/sociedad/2025-02-07/la-reforma-de-la-ley-de-dependencia-eliminara-la-incompatibilidad-de-prestaciones-y-refuerza-la-atencion-en-los-hogares.html\" target=\"_blank\">https://elpais.com/sociedad/2025-02-07/la-reforma-de-la-ley-de-dependencia-eliminara-la-incompatibilidad-de-prestaciones-y-refuerza-la-atencion-en-los-hogares.html</a>"
      ],
      "text/plain": [
       "<IPython.core.display.HTML object>"
      ]
     },
     "metadata": {},
     "output_type": "display_data"
    },
    {
     "data": {
      "text/html": [
       "<hr>"
      ],
      "text/plain": [
       "<IPython.core.display.HTML object>"
      ]
     },
     "metadata": {},
     "output_type": "display_data"
    },
    {
     "data": {
      "text/html": [
       "<h3>El Mundo</h3>"
      ],
      "text/plain": [
       "<IPython.core.display.HTML object>"
      ]
     },
     "metadata": {},
     "output_type": "display_data"
    },
    {
     "data": {
      "text/html": [
       "<h5 style=\"line-height:1.6\">Conde-Pumpido irrumpe por sorpresa en los recursos de los líderes del 1-O por la amnistía</h5>"
      ],
      "text/plain": [
       "<IPython.core.display.HTML object>"
      ]
     },
     "metadata": {},
     "output_type": "display_data"
    },
    {
     "data": {
      "text/html": [
       "<a href=\"https://www.elmundo.es/espana/2025/02/06/67a52870e9cf4ac23d8b456d.html\" target=\"_blank\">https://www.elmundo.es/espana/2025/02/06/67a52870e9cf4ac23d8b456d.html</a>"
      ],
      "text/plain": [
       "<IPython.core.display.HTML object>"
      ]
     },
     "metadata": {},
     "output_type": "display_data"
    },
    {
     "data": {
      "text/html": [
       "<hr>"
      ],
      "text/plain": [
       "<IPython.core.display.HTML object>"
      ]
     },
     "metadata": {},
     "output_type": "display_data"
    },
    {
     "data": {
      "text/html": [
       "<h3>El Español</h3>"
      ],
      "text/plain": [
       "<IPython.core.display.HTML object>"
      ]
     },
     "metadata": {},
     "output_type": "display_data"
    },
    {
     "data": {
      "text/html": [
       "<h5 style=\"line-height:1.6\">Pumpido da dos meses a seis letrados para redactar la ponencia del recurso del PP por la amnistía y acorta la espera de Puigdemont</h5>"
      ],
      "text/plain": [
       "<IPython.core.display.HTML object>"
      ]
     },
     "metadata": {},
     "output_type": "display_data"
    },
    {
     "data": {
      "text/html": [
       "<a href=\"https://www.elespanol.com/espana/tribunales/20250207/pumpido-da-meses-letrados-ponencia-recurso-pp-amnistia-acorta-espera-puigdemont/922158307_0.html\" target=\"_blank\">https://www.elespanol.com/espana/tribunales/20250207/pumpido-da-meses-letrados-ponencia-recurso-pp-amnistia-acorta-espera-puigdemont/922158307_0.html</a>"
      ],
      "text/plain": [
       "<IPython.core.display.HTML object>"
      ]
     },
     "metadata": {},
     "output_type": "display_data"
    },
    {
     "data": {
      "text/html": [
       "<hr>"
      ],
      "text/plain": [
       "<IPython.core.display.HTML object>"
      ]
     },
     "metadata": {},
     "output_type": "display_data"
    },
    {
     "data": {
      "text/html": [
       "<h3>El Periódico de España</h3>"
      ],
      "text/plain": [
       "<IPython.core.display.HTML object>"
      ]
     },
     "metadata": {},
     "output_type": "display_data"
    },
    {
     "data": {
      "text/html": [
       "<h5 style=\"line-height:1.6\">Sánchez se pone frente a Trump y reclama que la UE impulse una agenda propia</h5>"
      ],
      "text/plain": [
       "<IPython.core.display.HTML object>"
      ]
     },
     "metadata": {},
     "output_type": "display_data"
    },
    {
     "data": {
      "text/html": [
       "<a href=\"https://www.epe.es/es/politica/20250207/sanchez-trump-aranceles-ue-agenda-114060329\" target=\"_blank\">https://www.epe.es/es/politica/20250207/sanchez-trump-aranceles-ue-agenda-114060329</a>"
      ],
      "text/plain": [
       "<IPython.core.display.HTML object>"
      ]
     },
     "metadata": {},
     "output_type": "display_data"
    },
    {
     "data": {
      "text/html": [
       "<hr>"
      ],
      "text/plain": [
       "<IPython.core.display.HTML object>"
      ]
     },
     "metadata": {},
     "output_type": "display_data"
    },
    {
     "data": {
      "text/html": [
       "<h3>ABC</h3>"
      ],
      "text/plain": [
       "<IPython.core.display.HTML object>"
      ]
     },
     "metadata": {},
     "output_type": "display_data"
    },
    {
     "data": {
      "text/html": [
       "<h5 style=\"line-height:1.6\">Yolanda Díaz aboca a España a multas millonarias por desobedecer a Europa en materia laboral</h5>"
      ],
      "text/plain": [
       "<IPython.core.display.HTML object>"
      ]
     },
     "metadata": {},
     "output_type": "display_data"
    },
    {
     "data": {
      "text/html": [
       "<a href=\"https://www.abc.es/economia/diaz-aboca-espana-sanciones-millonarias-desobedecer-europa-20250207164408-nt.html\" target=\"_blank\">https://www.abc.es/economia/diaz-aboca-espana-sanciones-millonarias-desobedecer-europa-20250207164408-nt.html</a>"
      ],
      "text/plain": [
       "<IPython.core.display.HTML object>"
      ]
     },
     "metadata": {},
     "output_type": "display_data"
    },
    {
     "data": {
      "text/html": [
       "<hr>"
      ],
      "text/plain": [
       "<IPython.core.display.HTML object>"
      ]
     },
     "metadata": {},
     "output_type": "display_data"
    },
    {
     "data": {
      "text/html": [
       "<h3>La Vanguardia</h3>"
      ],
      "text/plain": [
       "<IPython.core.display.HTML object>"
      ]
     },
     "metadata": {},
     "output_type": "display_data"
    },
    {
     "data": {
      "text/html": [
       "<h5 style=\"line-height:1.6\">El Ayuntamiento de Barcelona anuncia la compra de la Casa Orsola</h5>"
      ],
      "text/plain": [
       "<IPython.core.display.HTML object>"
      ]
     },
     "metadata": {},
     "output_type": "display_data"
    },
    {
     "data": {
      "text/html": [
       "<a href=\"https://www.lavanguardia.com/local/barcelona/20250207/10361486/ayuntamiento-barcelona-anuncia-compra-casa-orsola.html\" target=\"_blank\">https://www.lavanguardia.com/local/barcelona/20250207/10361486/ayuntamiento-barcelona-anuncia-compra-casa-orsola.html</a>"
      ],
      "text/plain": [
       "<IPython.core.display.HTML object>"
      ]
     },
     "metadata": {},
     "output_type": "display_data"
    },
    {
     "data": {
      "text/html": [
       "<hr>"
      ],
      "text/plain": [
       "<IPython.core.display.HTML object>"
      ]
     },
     "metadata": {},
     "output_type": "display_data"
    },
    {
     "data": {
      "text/html": [
       "<h3>El Periódico</h3>"
      ],
      "text/plain": [
       "<IPython.core.display.HTML object>"
      ]
     },
     "metadata": {},
     "output_type": "display_data"
    },
    {
     "data": {
      "text/html": [
       "<h5 style=\"line-height:1.6\">La reforma de la Renta Garantizada incluye el uso de Inteligencia Artificial para detectar fraude</h5>"
      ],
      "text/plain": [
       "<IPython.core.display.HTML object>"
      ]
     },
     "metadata": {},
     "output_type": "display_data"
    },
    {
     "data": {
      "text/html": [
       "<a href=\"https://wwwelperiodico.com/es/es/sociedad/20250207/cambios-reforma-renta-garantizada-inteligencia-artificial-sanciones-revisiones-cataluna-114007897\" target=\"_blank\">https://wwwelperiodico.com/es/es/sociedad/20250207/cambios-reforma-renta-garantizada-inteligencia-artificial-sanciones-revisiones-cataluna-114007897</a>"
      ],
      "text/plain": [
       "<IPython.core.display.HTML object>"
      ]
     },
     "metadata": {},
     "output_type": "display_data"
    },
    {
     "data": {
      "text/html": [
       "<hr>"
      ],
      "text/plain": [
       "<IPython.core.display.HTML object>"
      ]
     },
     "metadata": {},
     "output_type": "display_data"
    },
    {
     "data": {
      "text/html": [
       "<h3>El Confidencial</h3>"
      ],
      "text/plain": [
       "<IPython.core.display.HTML object>"
      ]
     },
     "metadata": {},
     "output_type": "display_data"
    },
    {
     "data": {
      "text/html": [
       "<h5 style=\"line-height:1.6\">Aldama teme por su vida: pide al juez que le devuelva por \"seguridad\" el Audi blindado incautado</h5>"
      ],
      "text/plain": [
       "<IPython.core.display.HTML object>"
      ]
     },
     "metadata": {},
     "output_type": "display_data"
    },
    {
     "data": {
      "text/html": [
       "<a href=\"https://www.elconfidencial.com/espana/2025-02-07/aldama-vida-peligro-juez-devuelva-audi-blindado-seguridad_4058966/\" target=\"_blank\">https://www.elconfidencial.com/espana/2025-02-07/aldama-vida-peligro-juez-devuelva-audi-blindado-seguridad_4058966/</a>"
      ],
      "text/plain": [
       "<IPython.core.display.HTML object>"
      ]
     },
     "metadata": {},
     "output_type": "display_data"
    },
    {
     "data": {
      "text/html": [
       "<hr>"
      ],
      "text/plain": [
       "<IPython.core.display.HTML object>"
      ]
     },
     "metadata": {},
     "output_type": "display_data"
    },
    {
     "data": {
      "text/html": [
       "<h3>20 Minutos</h3>"
      ],
      "text/plain": [
       "<IPython.core.display.HTML object>"
      ]
     },
     "metadata": {},
     "output_type": "display_data"
    },
    {
     "data": {
      "text/html": [
       "<h5 style=\"line-height:1.6\">El PP rechazará el pacto de Moncloa con Canarias para reubicar menores inmigrantes si deja fuera a País Vasco y Cataluña</h5>"
      ],
      "text/plain": [
       "<IPython.core.display.HTML object>"
      ]
     },
     "metadata": {},
     "output_type": "display_data"
    },
    {
     "data": {
      "text/html": [
       "<a href=\"https://www.20minutos.es/noticia/5680082/0/pp-rechaza-pacto-moncloa-canarias-reparte-inmigrantes-fuera-pais-vasco-cataluna/\" target=\"_blank\">https://www.20minutos.es/noticia/5680082/0/pp-rechaza-pacto-moncloa-canarias-reparte-inmigrantes-fuera-pais-vasco-cataluna/</a>"
      ],
      "text/plain": [
       "<IPython.core.display.HTML object>"
      ]
     },
     "metadata": {},
     "output_type": "display_data"
    },
    {
     "data": {
      "text/html": [
       "<hr>"
      ],
      "text/plain": [
       "<IPython.core.display.HTML object>"
      ]
     },
     "metadata": {},
     "output_type": "display_data"
    },
    {
     "data": {
      "text/html": [
       "<h3>La Razón</h3>"
      ],
      "text/plain": [
       "<IPython.core.display.HTML object>"
      ]
     },
     "metadata": {},
     "output_type": "display_data"
    },
    {
     "data": {
      "text/html": [
       "<h5 style=\"line-height:1.6\">Los mensajes que revelan la tapadera de Aldama y sus socios en el Caribe</h5>"
      ],
      "text/plain": [
       "<IPython.core.display.HTML object>"
      ]
     },
     "metadata": {},
     "output_type": "display_data"
    },
    {
     "data": {
      "text/html": [
       "<a href=\"https://www.larazon.es/espana/mensajes-que-revelan-tapadera-aldama-sus-socios-caribe_2025020767a56064e95c060001895f7e.html\" target=\"_blank\">https://www.larazon.es/espana/mensajes-que-revelan-tapadera-aldama-sus-socios-caribe_2025020767a56064e95c060001895f7e.html</a>"
      ],
      "text/plain": [
       "<IPython.core.display.HTML object>"
      ]
     },
     "metadata": {},
     "output_type": "display_data"
    },
    {
     "data": {
      "text/html": [
       "<hr>"
      ],
      "text/plain": [
       "<IPython.core.display.HTML object>"
      ]
     },
     "metadata": {},
     "output_type": "display_data"
    },
    {
     "data": {
      "text/html": [
       "<h3>elDiario.es</h3>"
      ],
      "text/plain": [
       "<IPython.core.display.HTML object>"
      ]
     },
     "metadata": {},
     "output_type": "display_data"
    },
    {
     "data": {
      "text/html": [
       "<h5 style=\"line-height:1.6\">El Gobierno prepara una ley orgánica que permita a las comunidades gestionar la acogida migratoria pero no las fronteras</h5>"
      ],
      "text/plain": [
       "<IPython.core.display.HTML object>"
      ]
     },
     "metadata": {},
     "output_type": "display_data"
    },
    {
     "data": {
      "text/html": [
       "<a href=\"https://www.eldiario.es/politica/gobierno-prepara-ley-organica-permita-comunidades-gestionar-acogida-migratoria-no-fronteras_1_12033004.html\" target=\"_blank\">https://www.eldiario.es/politica/gobierno-prepara-ley-organica-permita-comunidades-gestionar-acogida-migratoria-no-fronteras_1_12033004.html</a>"
      ],
      "text/plain": [
       "<IPython.core.display.HTML object>"
      ]
     },
     "metadata": {},
     "output_type": "display_data"
    },
    {
     "data": {
      "text/html": [
       "<hr>"
      ],
      "text/plain": [
       "<IPython.core.display.HTML object>"
      ]
     },
     "metadata": {},
     "output_type": "display_data"
    },
    {
     "data": {
      "text/html": [
       "<h3>Público</h3>"
      ],
      "text/plain": [
       "<IPython.core.display.HTML object>"
      ]
     },
     "metadata": {},
     "output_type": "display_data"
    },
    {
     "data": {
      "text/html": [
       "<h5 style=\"line-height:1.6\">Abascal se refugia en alianzas internacionales mientras Vox se agrieta entre deserciones</h5>"
      ],
      "text/plain": [
       "<IPython.core.display.HTML object>"
      ]
     },
     "metadata": {},
     "output_type": "display_data"
    },
    {
     "data": {
      "text/html": [
       "<a href=\"https://www.publico.es//politica/partidos/abascal-refugia-alianzas-internacionales-vox-agrieta-deserciones.html\" target=\"_blank\">https://www.publico.es//politica/partidos/abascal-refugia-alianzas-internacionales-vox-agrieta-deserciones.html</a>"
      ],
      "text/plain": [
       "<IPython.core.display.HTML object>"
      ]
     },
     "metadata": {},
     "output_type": "display_data"
    },
    {
     "data": {
      "text/html": [
       "<hr>"
      ],
      "text/plain": [
       "<IPython.core.display.HTML object>"
      ]
     },
     "metadata": {},
     "output_type": "display_data"
    },
    {
     "data": {
      "text/html": [
       "<h3>Infolibre</h3>"
      ],
      "text/plain": [
       "<IPython.core.display.HTML object>"
      ]
     },
     "metadata": {},
     "output_type": "display_data"
    },
    {
     "data": {
      "text/html": [
       "<h5 style=\"line-height:1.6\">Entre el miedo y el descrédito: la UE calla ante la amenaza de limpieza étnica de Trump en Gaza</h5>"
      ],
      "text/plain": [
       "<IPython.core.display.HTML object>"
      ]
     },
     "metadata": {},
     "output_type": "display_data"
    },
    {
     "data": {
      "text/html": [
       "<a href=\"https://www.infolibre.es/internacional/sanciona-bloquea-armas-rompe-relaciones-ue-sigue-muda-frente-limpieza-gaza_1_1940901.html\" target=\"_blank\">https://www.infolibre.es/internacional/sanciona-bloquea-armas-rompe-relaciones-ue-sigue-muda-frente-limpieza-gaza_1_1940901.html</a>"
      ],
      "text/plain": [
       "<IPython.core.display.HTML object>"
      ]
     },
     "metadata": {},
     "output_type": "display_data"
    },
    {
     "data": {
      "text/html": [
       "<hr>"
      ],
      "text/plain": [
       "<IPython.core.display.HTML object>"
      ]
     },
     "metadata": {},
     "output_type": "display_data"
    },
    {
     "data": {
      "text/html": [
       "<h3>El Independiente</h3>"
      ],
      "text/plain": [
       "<IPython.core.display.HTML object>"
      ]
     },
     "metadata": {},
     "output_type": "display_data"
    },
    {
     "data": {
      "text/html": [
       "<h5 style=\"line-height:1.6\">Los telediarios de RTVE han perdido 416.000 espectadores durante el 'sanchismo'</h5>"
      ],
      "text/plain": [
       "<IPython.core.display.HTML object>"
      ]
     },
     "metadata": {},
     "output_type": "display_data"
    },
    {
     "data": {
      "text/html": [
       "<a href=\"https://www.elindependiente.com/series-y-television/comunicacion/2025/02/07/los-telediarios-de-rtve-han-perdido-416-000-espectadores-durante-el-sanchismo/\" target=\"_blank\">https://www.elindependiente.com/series-y-television/comunicacion/2025/02/07/los-telediarios-de-rtve-han-perdido-416-000-espectadores-durante-el-sanchismo/</a>"
      ],
      "text/plain": [
       "<IPython.core.display.HTML object>"
      ]
     },
     "metadata": {},
     "output_type": "display_data"
    },
    {
     "data": {
      "text/html": [
       "<hr>"
      ],
      "text/plain": [
       "<IPython.core.display.HTML object>"
      ]
     },
     "metadata": {},
     "output_type": "display_data"
    },
    {
     "data": {
      "text/html": [
       "<h3>El Correo de Andalucía</h3>"
      ],
      "text/plain": [
       "<IPython.core.display.HTML object>"
      ]
     },
     "metadata": {},
     "output_type": "display_data"
    },
    {
     "data": {
      "text/html": [
       "<h5 style=\"line-height:1.6\">Los negocios de la Macarena se plantan: ayudas \"realistas\" y vías de acceso para no quebrar por las obras del metro</h5>"
      ],
      "text/plain": [
       "<IPython.core.display.HTML object>"
      ]
     },
     "metadata": {},
     "output_type": "display_data"
    },
    {
     "data": {
      "text/html": [
       "<a href=\"https://www.elcorreoweb.es/sevilla/2025/02/07/vecinos-macarena-obras-metro-sevilla-pleno-extraordinario-114058528.html\" target=\"_blank\">https://www.elcorreoweb.es/sevilla/2025/02/07/vecinos-macarena-obras-metro-sevilla-pleno-extraordinario-114058528.html</a>"
      ],
      "text/plain": [
       "<IPython.core.display.HTML object>"
      ]
     },
     "metadata": {},
     "output_type": "display_data"
    },
    {
     "data": {
      "text/html": [
       "<hr>"
      ],
      "text/plain": [
       "<IPython.core.display.HTML object>"
      ]
     },
     "metadata": {},
     "output_type": "display_data"
    },
    {
     "data": {
      "text/html": [
       "<h3>Diario de Sevilla</h3>"
      ],
      "text/plain": [
       "<IPython.core.display.HTML object>"
      ]
     },
     "metadata": {},
     "output_type": "display_data"
    },
    {
     "data": {
      "text/html": [
       "<h5 style=\"line-height:1.6\">Las buenas prácticas en transporte público en las que Sevilla se podría fijar</h5>"
      ],
      "text/plain": [
       "<IPython.core.display.HTML object>"
      ]
     },
     "metadata": {},
     "output_type": "display_data"
    },
    {
     "data": {
      "text/html": [
       "<a href=\"https://www.diariodesevilla.es/sevilla/buenas-practicas-transporte-publico-sevilla_0_2003150884.html\" target=\"_blank\">https://www.diariodesevilla.es/sevilla/buenas-practicas-transporte-publico-sevilla_0_2003150884.html</a>"
      ],
      "text/plain": [
       "<IPython.core.display.HTML object>"
      ]
     },
     "metadata": {},
     "output_type": "display_data"
    },
    {
     "data": {
      "text/html": [
       "<hr>"
      ],
      "text/plain": [
       "<IPython.core.display.HTML object>"
      ]
     },
     "metadata": {},
     "output_type": "display_data"
    },
    {
     "data": {
      "text/html": [
       "<h3>ABC de Sevilla</h3>"
      ],
      "text/plain": [
       "<IPython.core.display.HTML object>"
      ]
     },
     "metadata": {},
     "output_type": "display_data"
    },
    {
     "data": {
      "text/html": [
       "<h5 style=\"line-height:1.6\">Fiscal antidroga de Andalucía: «No podemos exigir que los agentes se sigan jugando la vida en la lucha contra los narcos»</h5>"
      ],
      "text/plain": [
       "<IPython.core.display.HTML object>"
      ]
     },
     "metadata": {},
     "output_type": "display_data"
    },
    {
     "data": {
      "text/html": [
       "<a href=\"https://www.abc.es/espana/andalucia/fiscal-antidroga-cadiz-andalucia-podemos-exigir-agentes-20250207194744-nts.html\" target=\"_blank\">https://www.abc.es/espana/andalucia/fiscal-antidroga-cadiz-andalucia-podemos-exigir-agentes-20250207194744-nts.html</a>"
      ],
      "text/plain": [
       "<IPython.core.display.HTML object>"
      ]
     },
     "metadata": {},
     "output_type": "display_data"
    },
    {
     "data": {
      "text/html": [
       "<hr>"
      ],
      "text/plain": [
       "<IPython.core.display.HTML object>"
      ]
     },
     "metadata": {},
     "output_type": "display_data"
    }
   ],
   "source": [
    "display(HTML(f'<h2>Titulares del {hoy()}</h2>'))\n",
    "for a,b in periodicos.items():\n",
    "    consultar_titular(a,b)"
   ]
  },
  {
   "cell_type": "code",
   "execution_count": null,
   "id": "4785ae9a-a8c5-4242-85d9-7fa35993eff3",
   "metadata": {},
   "outputs": [],
   "source": []
  }
 ],
 "metadata": {
  "kernelspec": {
   "display_name": "Python 3 (ipykernel)",
   "language": "python",
   "name": "python3"
  },
  "language_info": {
   "codemirror_mode": {
    "name": "ipython",
    "version": 3
   },
   "file_extension": ".py",
   "mimetype": "text/x-python",
   "name": "python",
   "nbconvert_exporter": "python",
   "pygments_lexer": "ipython3",
   "version": "3.12.3"
  }
 },
 "nbformat": 4,
 "nbformat_minor": 5
}
