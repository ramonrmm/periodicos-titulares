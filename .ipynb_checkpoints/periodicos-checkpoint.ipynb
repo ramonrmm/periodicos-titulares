{
 "cells": [
  {
   "cell_type": "markdown",
   "id": "365b83d1-bf3f-4919-b581-9ab746c93313",
   "metadata": {},
   "source": [
    "# Consulta de titulares de los periódicos\n",
    "Mediante las librerías Requests y BeautifulSoup se hace webscraping a los periódicos más destacados en España para mostrar el titular principal con el que abren sus portadas. El resultado, además de imprimirlo por pantalla, lo grabamos en un archivo.\n",
    "\n",
    "**NOTA IMPORTANTE**. Muchos diarios tienen en su aviso legal o en sus robots.txt la prohibición de hacer web scraping a sus contenido. Con este pequeño programa solo se muestra, solo a efectos didácticos, cómo usar los comandos y funciones de Python en este sentido."
   ]
  },
  {
   "cell_type": "code",
   "execution_count": 3,
   "id": "a51bc1a7-7274-42eb-9d25-04d9aab815a5",
   "metadata": {},
   "outputs": [],
   "source": [
    "import requests # Para hacer la consulta\n",
    "from IPython.display import display, HTML # Para mostrar html en celdas de Jupiter Labs\n",
    "from datetime import datetime, timedelta # Para menejar fechas en Python\n",
    "from babel.dates import format_date # Para convertir las fechas a español\n",
    "from bs4 import BeautifulSoup #Para tratar el html de cada periódico\n",
    "import re # Para manejar expresiones regulares"
   ]
  },
  {
   "cell_type": "code",
   "execution_count": 4,
   "id": "8ca771ec-5d3d-412f-b6c9-36a70dcf6870",
   "metadata": {},
   "outputs": [],
   "source": [
    "periodicos = {\n",
    "    'El País': 'https://elpais.com/', \n",
    "    'El Mundo':'https://www.elmundo.es/', \n",
    "    'El Español':'https://www.elespanol.com/', \n",
    "    'El Periódico de España':'https://www.epe.es/es/',\n",
    "    'ABC':'https://www.abc.es/', \n",
    "    'La Vanguardia':'https://www.lavanguardia.com/', \n",
    "    'El Periódico':'https://www.elperiodico.com/es/', \n",
    "    'El Confidencial':'https://www.elconfidencial.com/', \n",
    "    '20 Minutos':'https://www.20minutos.es/', \n",
    "    'La Razón':'https://www.larazon.es/', \n",
    "    'elDiario.es':'https://www.eldiario.es/', \n",
    "    'Público':'https://www.publico.es/', \n",
    "    'Infolibre':'https://www.infolibre.es/', \n",
    "    'El Independiente':'https://www.elindependiente.com/', \n",
    "    'El Correo de Andalucía':'https://www.elcorreoweb.es', \n",
    "    'Diario de Sevilla':'https://www.diariodesevilla.es/', \n",
    "    'ABC de Sevilla':'https://www.abc.es/sevilla/'\n",
    "}\n",
    "headers = {\n",
    "    \"User-Agent\": \"Mozilla/5.0 (Windows NT 10.0; Win64; x64) AppleWebKit/537.36 (KHTML, like Gecko) Chrome/119.0.0.0 Safari/537.36\"\n",
    "}"
   ]
  },
  {
   "cell_type": "markdown",
   "id": "2da29f34-f84a-4df8-b29c-38981b577ccc",
   "metadata": {},
   "source": [
    "### Consultar primero qué etiquetas o clases tienen los titulares\n",
    "Hay que entrar en cada web y ver con qué etiqueta (h1, h2,...) y dentro como se configura en el html. Por ejemplo, si es el primer h1 de la página (o h2), si tiene etiquetas adicionales dentro, clases, etc. para hacer la búsqueda y el muestreo correcto del titular.\n",
    "\n",
    "**NOTA:** Hay que tener igualmente en cuenta que las distintas webs de los periódicos pueden cambiar el html, y si ahora el titular de apertura es un H1, en siguientes revisiones de diseño puede ser un H2."
   ]
  },
  {
   "cell_type": "markdown",
   "id": "24ab5fcd-2cba-46f1-aa1d-7bf7e8f9b5a0",
   "metadata": {},
   "source": [
    "**Función consultar_titular(a,b)**. Esta función recibe dos argumentos string: el nombre del periódico y la URL. El resultado es que muestra el nombre del periódico y el titular principal. Aquí hacemos el request y con la respuesta y BeautifulSoup encontramos el titular. No retorna nada, solo hace toda la gestión y muestra el titular."
   ]
  },
  {
   "cell_type": "code",
   "execution_count": 7,
   "id": "95f6b737-2b4f-4ebe-b949-422859808963",
   "metadata": {},
   "outputs": [],
   "source": [
    "def consultar_titular(a,b):\n",
    "    try:\n",
    "        response = requests.get(b,headers=headers)\n",
    "        soup = BeautifulSoup(response.text,'html5lib')\n",
    "        if a == \"El Mundo\":\n",
    "            titular = soup.find_all('h2',class_='ue-c-cover-content__headline')[0].text\n",
    "            enlace = soup.find_all('h2',class_='ue-c-cover-content__headline')[0].parent.get('href')\n",
    "        elif a == \"El Español\" or a == \"Diario de Sevilla\":\n",
    "            titular = soup.find_all('h2')[0].text.strip()\n",
    "            if a == \"El Español\":\n",
    "                enlace = 'https://www.elespanol.com' + soup.find_all('h2')[0].a.get('href')\n",
    "            else:\n",
    "                enlace = soup.find_all('h2')[0].parent.get('href')\n",
    "        elif a == \"El Correo de Andalucía\" or a == \"El Confidencial\":\n",
    "            titular = soup.find_all('h1')[1].text.strip()\n",
    "            enlace = soup.find_all('h1')[1].parent.get('href')\n",
    "        elif a == \"20 Minutos\":\n",
    "            titular = soup.find_all('h1', id='')[0].a.text.strip()\n",
    "            enlace = soup.find_all('h1', id='')[0].a.get('href')\n",
    "        elif a == \"La Razón\":\n",
    "            titular = soup.find_all('h2',class_='article__title')[0].a.text.strip()\n",
    "            enlace = soup.find_all('h2',class_='article__title')[0].a.get('href')\n",
    "        elif a == \"Infolibre\":\n",
    "            titular = soup.find_all('h1')[0].text.strip()\n",
    "            enlace = 'https://www.infolibre.es' + soup.find_all('h1')[0].a.get('href')\n",
    "        else:\n",
    "            titular = soup.find_all('h2')[0].a.text.strip()\n",
    "            if a == \"El Periódico de España\":\n",
    "                enlace = 'https://www.epe.es' + soup.find_all('h2')[0].a.get('href')\n",
    "            elif a == \"La Vanguardia\": \n",
    "                enlace = 'https://www.lavanguardia.com' + soup.find_all('h2')[0].a.get('href')\n",
    "            elif a == \"El Periódico\":\n",
    "                enlace = 'https://www.elperiodico.com' + soup.find_all('h2')[0].a.get('href')\n",
    "            elif a == \"elDiario.es\":\n",
    "                enlace = 'https://www.eldiario.es' + soup.find_all('h2')[0].a.get('href')\n",
    "            elif a == \"Público\":\n",
    "                enlace = 'https://www.publico.es' + soup.find_all('h2')[0].a.get('href')\n",
    "            else:\n",
    "                enlace = soup.find_all('h2')[0].a.get('href')\n",
    "                \n",
    "        display(HTML(f'<h3>{a}</h3>'))\n",
    "        display(HTML(f'<h5 style=\"line-height:1.6\">{titular}</h5>'))\n",
    "        display(HTML(f'<a href=\"{enlace}\" target=\"_blank\">{enlace}</a>'))\n",
    "        display(HTML(f'<hr>'))  \n",
    "    except requests.exceptions.RequestException as e:\n",
    "        print(f\"Error con {a}: {e}\")\n",
    "    except Exception as e:\n",
    "        print(f\"Error inesperado en {a}: {e}\")\n",
    "    return    "
   ]
  },
  {
   "cell_type": "code",
   "execution_count": 8,
   "id": "20ca19c9-c44a-4e35-b054-c001725e32e2",
   "metadata": {},
   "outputs": [],
   "source": [
    "# Función que devuelve la fecha de hoy en español\n",
    "# Ejemplo: lunes 3 de febrero de 2025\n",
    "def hoy():\n",
    "    hoy = datetime.now()\n",
    "    fecha_español = format_date(hoy, format=\"full\", locale=\"es\")\n",
    "    return fecha_español"
   ]
  },
  {
   "cell_type": "markdown",
   "id": "b1e1cf0d-aa39-4f65-8a76-5c9aec22d58d",
   "metadata": {},
   "source": [
    "**Bloque principal**. Mediante un bucle se va recorriendo el diccionario de periódicos y llamando a la función correspondiente para que haga el request y muestre el titular."
   ]
  },
  {
   "cell_type": "code",
   "execution_count": 10,
   "id": "875a1d30-6015-44a7-a970-88b20b445406",
   "metadata": {},
   "outputs": [
    {
     "data": {
      "text/html": [
       "<h2>Titulares del viernes, 7 de febrero de 2025</h2>"
      ],
      "text/plain": [
       "<IPython.core.display.HTML object>"
      ]
     },
     "metadata": {},
     "output_type": "display_data"
    },
    {
     "data": {
      "text/html": [
       "<h3>El País</h3>"
      ],
      "text/plain": [
       "<IPython.core.display.HTML object>"
      ]
     },
     "metadata": {},
     "output_type": "display_data"
    },
    {
     "data": {
      "text/html": [
       "<h5 style=\"line-height:1.6\">El Tribunal Penal Internacional pide unidad a los Estados ante los ataques de Trump</h5>"
      ],
      "text/plain": [
       "<IPython.core.display.HTML object>"
      ]
     },
     "metadata": {},
     "output_type": "display_data"
    },
    {
     "data": {
      "text/html": [
       "<a href=\"https://elpais.com/internacional/2025-02-06/trump-sancionara-al-personal-del-tribunal-penal-internacional-que-investigue-a-ciudadanos-de-ee-uu-o-sus-aliados-incluido-israel.html\" target=\"_blank\">https://elpais.com/internacional/2025-02-06/trump-sancionara-al-personal-del-tribunal-penal-internacional-que-investigue-a-ciudadanos-de-ee-uu-o-sus-aliados-incluido-israel.html</a>"
      ],
      "text/plain": [
       "<IPython.core.display.HTML object>"
      ]
     },
     "metadata": {},
     "output_type": "display_data"
    },
    {
     "data": {
      "text/html": [
       "<hr>"
      ],
      "text/plain": [
       "<IPython.core.display.HTML object>"
      ]
     },
     "metadata": {},
     "output_type": "display_data"
    },
    {
     "data": {
      "text/html": [
       "<h3>El Mundo</h3>"
      ],
      "text/plain": [
       "<IPython.core.display.HTML object>"
      ]
     },
     "metadata": {},
     "output_type": "display_data"
    },
    {
     "data": {
      "text/html": [
       "<h5 style=\"line-height:1.6\">Uno de los aspirantes a la plaza que ganó David Sánchez asegura que nunca conocieron las notas del concurso</h5>"
      ],
      "text/plain": [
       "<IPython.core.display.HTML object>"
      ]
     },
     "metadata": {},
     "output_type": "display_data"
    },
    {
     "data": {
      "text/html": [
       "<a href=\"https://www.elmundo.es/espana/2025/02/07/67a601e0e9cf4aae038b458e.html\" target=\"_blank\">https://www.elmundo.es/espana/2025/02/07/67a601e0e9cf4aae038b458e.html</a>"
      ],
      "text/plain": [
       "<IPython.core.display.HTML object>"
      ]
     },
     "metadata": {},
     "output_type": "display_data"
    },
    {
     "data": {
      "text/html": [
       "<hr>"
      ],
      "text/plain": [
       "<IPython.core.display.HTML object>"
      ]
     },
     "metadata": {},
     "output_type": "display_data"
    },
    {
     "data": {
      "text/html": [
       "<h3>El Español</h3>"
      ],
      "text/plain": [
       "<IPython.core.display.HTML object>"
      ]
     },
     "metadata": {},
     "output_type": "display_data"
    },
    {
     "data": {
      "text/html": [
       "<h5 style=\"line-height:1.6\">El PP rechaza el reparto de menas que excluye a País Vasco y Cataluña \"con criterios mezquinos\"</h5>"
      ],
      "text/plain": [
       "<IPython.core.display.HTML object>"
      ]
     },
     "metadata": {},
     "output_type": "display_data"
    },
    {
     "data": {
      "text/html": [
       "<a href=\"https://www.elespanol.com/espana/politica/20250207/pp-rechaza-pacto-reparto-menas-deja-cataluna-pais-vasco-criterios-politicos-mezquinos/922408083_0.html\" target=\"_blank\">https://www.elespanol.com/espana/politica/20250207/pp-rechaza-pacto-reparto-menas-deja-cataluna-pais-vasco-criterios-politicos-mezquinos/922408083_0.html</a>"
      ],
      "text/plain": [
       "<IPython.core.display.HTML object>"
      ]
     },
     "metadata": {},
     "output_type": "display_data"
    },
    {
     "data": {
      "text/html": [
       "<hr>"
      ],
      "text/plain": [
       "<IPython.core.display.HTML object>"
      ]
     },
     "metadata": {},
     "output_type": "display_data"
    },
    {
     "data": {
      "text/html": [
       "<h3>El Periódico de España</h3>"
      ],
      "text/plain": [
       "<IPython.core.display.HTML object>"
      ]
     },
     "metadata": {},
     "output_type": "display_data"
    },
    {
     "data": {
      "text/html": [
       "<h5 style=\"line-height:1.6\">El PP votará contra el traslado de 4.400 menores migrantes porque el pacto del Gobierno y Canarias es \"mezquino\"</h5>"
      ],
      "text/plain": [
       "<IPython.core.display.HTML object>"
      ]
     },
     "metadata": {},
     "output_type": "display_data"
    },
    {
     "data": {
      "text/html": [
       "<a href=\"https://www.epe.es/es/sociedad/20250207/pp-avisa-votara-contra-traslado-menores-migrantes-canarias-114080883\" target=\"_blank\">https://www.epe.es/es/sociedad/20250207/pp-avisa-votara-contra-traslado-menores-migrantes-canarias-114080883</a>"
      ],
      "text/plain": [
       "<IPython.core.display.HTML object>"
      ]
     },
     "metadata": {},
     "output_type": "display_data"
    },
    {
     "data": {
      "text/html": [
       "<hr>"
      ],
      "text/plain": [
       "<IPython.core.display.HTML object>"
      ]
     },
     "metadata": {},
     "output_type": "display_data"
    },
    {
     "data": {
      "text/html": [
       "<h3>ABC</h3>"
      ],
      "text/plain": [
       "<IPython.core.display.HTML object>"
      ]
     },
     "metadata": {},
     "output_type": "display_data"
    },
    {
     "data": {
      "text/html": [
       "<h5 style=\"line-height:1.6\">Yolanda Díaz aboca a España a multas millonarias por desobedecer a Europa en materia laboral</h5>"
      ],
      "text/plain": [
       "<IPython.core.display.HTML object>"
      ]
     },
     "metadata": {},
     "output_type": "display_data"
    },
    {
     "data": {
      "text/html": [
       "<a href=\"https://www.abc.es/economia/diaz-aboca-espana-sanciones-millonarias-desobedecer-europa-20250207164408-nt.html\" target=\"_blank\">https://www.abc.es/economia/diaz-aboca-espana-sanciones-millonarias-desobedecer-europa-20250207164408-nt.html</a>"
      ],
      "text/plain": [
       "<IPython.core.display.HTML object>"
      ]
     },
     "metadata": {},
     "output_type": "display_data"
    },
    {
     "data": {
      "text/html": [
       "<hr>"
      ],
      "text/plain": [
       "<IPython.core.display.HTML object>"
      ]
     },
     "metadata": {},
     "output_type": "display_data"
    },
    {
     "data": {
      "text/html": [
       "<h3>La Vanguardia</h3>"
      ],
      "text/plain": [
       "<IPython.core.display.HTML object>"
      ]
     },
     "metadata": {},
     "output_type": "display_data"
    },
    {
     "data": {
      "text/html": [
       "<h5 style=\"line-height:1.6\">El Ayuntamiento de Barcelona y Hàbitat 3 comprarán casa Orsola por nueve millones</h5>"
      ],
      "text/plain": [
       "<IPython.core.display.HTML object>"
      ]
     },
     "metadata": {},
     "output_type": "display_data"
    },
    {
     "data": {
      "text/html": [
       "<a href=\"https://www.lavanguardia.com/local/barcelona/20250207/10362694/habitat-3-ayuntamiento-compraran-casa-orsola-nueve-millones.html\" target=\"_blank\">https://www.lavanguardia.com/local/barcelona/20250207/10362694/habitat-3-ayuntamiento-compraran-casa-orsola-nueve-millones.html</a>"
      ],
      "text/plain": [
       "<IPython.core.display.HTML object>"
      ]
     },
     "metadata": {},
     "output_type": "display_data"
    },
    {
     "data": {
      "text/html": [
       "<hr>"
      ],
      "text/plain": [
       "<IPython.core.display.HTML object>"
      ]
     },
     "metadata": {},
     "output_type": "display_data"
    },
    {
     "data": {
      "text/html": [
       "<h3>El Periódico</h3>"
      ],
      "text/plain": [
       "<IPython.core.display.HTML object>"
      ]
     },
     "metadata": {},
     "output_type": "display_data"
    },
    {
     "data": {
      "text/html": [
       "<h5 style=\"line-height:1.6\">El ISE 2025 rompe de nuevo su récord y supera los 85.000 visitantes</h5>"
      ],
      "text/plain": [
       "<IPython.core.display.HTML object>"
      ]
     },
     "metadata": {},
     "output_type": "display_data"
    },
    {
     "data": {
      "text/html": [
       "<a href=\"https://www.elperiodico.com/es/es/economia/20250207/ise-vuelve-batir-record-supera-114085921\" target=\"_blank\">https://www.elperiodico.com/es/es/economia/20250207/ise-vuelve-batir-record-supera-114085921</a>"
      ],
      "text/plain": [
       "<IPython.core.display.HTML object>"
      ]
     },
     "metadata": {},
     "output_type": "display_data"
    },
    {
     "data": {
      "text/html": [
       "<hr>"
      ],
      "text/plain": [
       "<IPython.core.display.HTML object>"
      ]
     },
     "metadata": {},
     "output_type": "display_data"
    },
    {
     "data": {
      "text/html": [
       "<h3>El Confidencial</h3>"
      ],
      "text/plain": [
       "<IPython.core.display.HTML object>"
      ]
     },
     "metadata": {},
     "output_type": "display_data"
    },
    {
     "data": {
      "text/html": [
       "<h5 style=\"line-height:1.6\">Feijóo propone una deducción del 20% del IRPF a los jóvenes que ahorren para comprar vivienda</h5>"
      ],
      "text/plain": [
       "<IPython.core.display.HTML object>"
      ]
     },
     "metadata": {},
     "output_type": "display_data"
    },
    {
     "data": {
      "text/html": [
       "<a href=\"https://www.elconfidencial.com/espana/2025-02-07/feijoo-propone-una-deduccion-del-20-del-irpf-a-los-jovenes-que-ahorren-para-comprar-vivienda_4059750/\" target=\"_blank\">https://www.elconfidencial.com/espana/2025-02-07/feijoo-propone-una-deduccion-del-20-del-irpf-a-los-jovenes-que-ahorren-para-comprar-vivienda_4059750/</a>"
      ],
      "text/plain": [
       "<IPython.core.display.HTML object>"
      ]
     },
     "metadata": {},
     "output_type": "display_data"
    },
    {
     "data": {
      "text/html": [
       "<hr>"
      ],
      "text/plain": [
       "<IPython.core.display.HTML object>"
      ]
     },
     "metadata": {},
     "output_type": "display_data"
    },
    {
     "data": {
      "text/html": [
       "<h3>20 Minutos</h3>"
      ],
      "text/plain": [
       "<IPython.core.display.HTML object>"
      ]
     },
     "metadata": {},
     "output_type": "display_data"
    },
    {
     "data": {
      "text/html": [
       "<h5 style=\"line-height:1.6\">El Gobierno no aclara si Cataluña y País Vasco se quedarán fuera de la reubicación de menores pero incide en su \"esfuerzo previo\"</h5>"
      ],
      "text/plain": [
       "<IPython.core.display.HTML object>"
      ]
     },
     "metadata": {},
     "output_type": "display_data"
    },
    {
     "data": {
      "text/html": [
       "<a href=\"https://www.20minutos.es/noticia/5680302/0/gobierno-no-aclara-si-cataluna-pais-vasco-se-quedaran-fuera-reubicacion-menores-pero-incide-su-esfuerzo-previo/\" target=\"_blank\">https://www.20minutos.es/noticia/5680302/0/gobierno-no-aclara-si-cataluna-pais-vasco-se-quedaran-fuera-reubicacion-menores-pero-incide-su-esfuerzo-previo/</a>"
      ],
      "text/plain": [
       "<IPython.core.display.HTML object>"
      ]
     },
     "metadata": {},
     "output_type": "display_data"
    },
    {
     "data": {
      "text/html": [
       "<hr>"
      ],
      "text/plain": [
       "<IPython.core.display.HTML object>"
      ]
     },
     "metadata": {},
     "output_type": "display_data"
    },
    {
     "data": {
      "text/html": [
       "<h3>La Razón</h3>"
      ],
      "text/plain": [
       "<IPython.core.display.HTML object>"
      ]
     },
     "metadata": {},
     "output_type": "display_data"
    },
    {
     "data": {
      "text/html": [
       "<h5 style=\"line-height:1.6\">El sindicalista que se opuso a la creación del cargo adjudicado al hermano de Sánchez: \"El puesto de alta dirección no era necesario\"</h5>"
      ],
      "text/plain": [
       "<IPython.core.display.HTML object>"
      ]
     },
     "metadata": {},
     "output_type": "display_data"
    },
    {
     "data": {
      "text/html": [
       "<a href=\"https://www.larazon.es/espana/sindicalista-que-opuso-creacion-cargo-adjudicado-hermano-sanchez-puesto-alta-direccion-era-necesario_2025020767a6222c797cbb000144212a.html\" target=\"_blank\">https://www.larazon.es/espana/sindicalista-que-opuso-creacion-cargo-adjudicado-hermano-sanchez-puesto-alta-direccion-era-necesario_2025020767a6222c797cbb000144212a.html</a>"
      ],
      "text/plain": [
       "<IPython.core.display.HTML object>"
      ]
     },
     "metadata": {},
     "output_type": "display_data"
    },
    {
     "data": {
      "text/html": [
       "<hr>"
      ],
      "text/plain": [
       "<IPython.core.display.HTML object>"
      ]
     },
     "metadata": {},
     "output_type": "display_data"
    },
    {
     "data": {
      "text/html": [
       "<h3>elDiario.es</h3>"
      ],
      "text/plain": [
       "<IPython.core.display.HTML object>"
      ]
     },
     "metadata": {},
     "output_type": "display_data"
    },
    {
     "data": {
      "text/html": [
       "<h5 style=\"line-height:1.6\">Trump firma una orden para sancionar a miembros de la Corte Penal Internacional por sus “acciones” contra EEUU e Israel</h5>"
      ],
      "text/plain": [
       "<IPython.core.display.HTML object>"
      ]
     },
     "metadata": {},
     "output_type": "display_data"
    },
    {
     "data": {
      "text/html": [
       "<a href=\"https://www.eldiario.es/internacional/trump-firma-orden-ejecutiva-sancionar-miembros-corte-penal-internacional-acciones-eeuu-e-israel_1_12033589.html\" target=\"_blank\">https://www.eldiario.es/internacional/trump-firma-orden-ejecutiva-sancionar-miembros-corte-penal-internacional-acciones-eeuu-e-israel_1_12033589.html</a>"
      ],
      "text/plain": [
       "<IPython.core.display.HTML object>"
      ]
     },
     "metadata": {},
     "output_type": "display_data"
    },
    {
     "data": {
      "text/html": [
       "<hr>"
      ],
      "text/plain": [
       "<IPython.core.display.HTML object>"
      ]
     },
     "metadata": {},
     "output_type": "display_data"
    },
    {
     "data": {
      "text/html": [
       "<h3>Público</h3>"
      ],
      "text/plain": [
       "<IPython.core.display.HTML object>"
      ]
     },
     "metadata": {},
     "output_type": "display_data"
    },
    {
     "data": {
      "text/html": [
       "<h5 style=\"line-height:1.6\">Las viviendas de la Casa Orsola serán gestionadas por la entidad Hàbitat3 con criterios sociales y precios de alquiler asequible</h5>"
      ],
      "text/plain": [
       "<IPython.core.display.HTML object>"
      ]
     },
     "metadata": {},
     "output_type": "display_data"
    },
    {
     "data": {
      "text/html": [
       "<a href=\"https://www.publico.es/sociedad/viviendas-casa-orsola-seran-gestionadas-entidad-habitat3-criterios-sociales-precios-alquiler-asequible.html\" target=\"_blank\">https://www.publico.es/sociedad/viviendas-casa-orsola-seran-gestionadas-entidad-habitat3-criterios-sociales-precios-alquiler-asequible.html</a>"
      ],
      "text/plain": [
       "<IPython.core.display.HTML object>"
      ]
     },
     "metadata": {},
     "output_type": "display_data"
    },
    {
     "data": {
      "text/html": [
       "<hr>"
      ],
      "text/plain": [
       "<IPython.core.display.HTML object>"
      ]
     },
     "metadata": {},
     "output_type": "display_data"
    },
    {
     "data": {
      "text/html": [
       "<h3>Infolibre</h3>"
      ],
      "text/plain": [
       "<IPython.core.display.HTML object>"
      ]
     },
     "metadata": {},
     "output_type": "display_data"
    },
    {
     "data": {
      "text/html": [
       "<h5 style=\"line-height:1.6\">Entre el miedo y el descrédito: la UE calla ante la amenaza de limpieza étnica de Trump en Gaza</h5>"
      ],
      "text/plain": [
       "<IPython.core.display.HTML object>"
      ]
     },
     "metadata": {},
     "output_type": "display_data"
    },
    {
     "data": {
      "text/html": [
       "<a href=\"https://www.infolibre.es/internacional/sanciona-bloquea-armas-rompe-relaciones-ue-sigue-muda-frente-limpieza-gaza_1_1940901.html\" target=\"_blank\">https://www.infolibre.es/internacional/sanciona-bloquea-armas-rompe-relaciones-ue-sigue-muda-frente-limpieza-gaza_1_1940901.html</a>"
      ],
      "text/plain": [
       "<IPython.core.display.HTML object>"
      ]
     },
     "metadata": {},
     "output_type": "display_data"
    },
    {
     "data": {
      "text/html": [
       "<hr>"
      ],
      "text/plain": [
       "<IPython.core.display.HTML object>"
      ]
     },
     "metadata": {},
     "output_type": "display_data"
    },
    {
     "data": {
      "text/html": [
       "<h3>El Independiente</h3>"
      ],
      "text/plain": [
       "<IPython.core.display.HTML object>"
      ]
     },
     "metadata": {},
     "output_type": "display_data"
    },
    {
     "data": {
      "text/html": [
       "<h5 style=\"line-height:1.6\">González-Bueno (Sabadell), sobre la OPA de BBVA: \"La operación no tiene sentido a este precio\"</h5>"
      ],
      "text/plain": [
       "<IPython.core.display.HTML object>"
      ]
     },
     "metadata": {},
     "output_type": "display_data"
    },
    {
     "data": {
      "text/html": [
       "<a href=\"https://www.elindependiente.com/economia/2025/02/07/opa-bbva-sabadell-bueno/\" target=\"_blank\">https://www.elindependiente.com/economia/2025/02/07/opa-bbva-sabadell-bueno/</a>"
      ],
      "text/plain": [
       "<IPython.core.display.HTML object>"
      ]
     },
     "metadata": {},
     "output_type": "display_data"
    },
    {
     "data": {
      "text/html": [
       "<hr>"
      ],
      "text/plain": [
       "<IPython.core.display.HTML object>"
      ]
     },
     "metadata": {},
     "output_type": "display_data"
    },
    {
     "data": {
      "text/html": [
       "<h3>El Correo de Andalucía</h3>"
      ],
      "text/plain": [
       "<IPython.core.display.HTML object>"
      ]
     },
     "metadata": {},
     "output_type": "display_data"
    },
    {
     "data": {
      "text/html": [
       "<h5 style=\"line-height:1.6\">Muere un narco al colisionar una patrullera con una narcolancha en Cádiz</h5>"
      ],
      "text/plain": [
       "<IPython.core.display.HTML object>"
      ]
     },
     "metadata": {},
     "output_type": "display_data"
    },
    {
     "data": {
      "text/html": [
       "<a href=\"https://www.elcorreoweb.es/andalucia/2025/02/07/muerto-herido-colisionar-patrullera-narcolancha-114086528.html\" target=\"_blank\">https://www.elcorreoweb.es/andalucia/2025/02/07/muerto-herido-colisionar-patrullera-narcolancha-114086528.html</a>"
      ],
      "text/plain": [
       "<IPython.core.display.HTML object>"
      ]
     },
     "metadata": {},
     "output_type": "display_data"
    },
    {
     "data": {
      "text/html": [
       "<hr>"
      ],
      "text/plain": [
       "<IPython.core.display.HTML object>"
      ]
     },
     "metadata": {},
     "output_type": "display_data"
    },
    {
     "data": {
      "text/html": [
       "<h3>Diario de Sevilla</h3>"
      ],
      "text/plain": [
       "<IPython.core.display.HTML object>"
      ]
     },
     "metadata": {},
     "output_type": "display_data"
    },
    {
     "data": {
      "text/html": [
       "<h5 style=\"line-height:1.6\">Andalucía ha atendido a 2.606 menores migrantes durante 2024, un 17% más que el año anterior</h5>"
      ],
      "text/plain": [
       "<IPython.core.display.HTML object>"
      ]
     },
     "metadata": {},
     "output_type": "display_data"
    },
    {
     "data": {
      "text/html": [
       "<a href=\"https://www.diariodesevilla.es/andalucia/andalucia-atendido-2-606-menores_0_2003296574.html\" target=\"_blank\">https://www.diariodesevilla.es/andalucia/andalucia-atendido-2-606-menores_0_2003296574.html</a>"
      ],
      "text/plain": [
       "<IPython.core.display.HTML object>"
      ]
     },
     "metadata": {},
     "output_type": "display_data"
    },
    {
     "data": {
      "text/html": [
       "<hr>"
      ],
      "text/plain": [
       "<IPython.core.display.HTML object>"
      ]
     },
     "metadata": {},
     "output_type": "display_data"
    },
    {
     "data": {
      "text/html": [
       "<h3>ABC de Sevilla</h3>"
      ],
      "text/plain": [
       "<IPython.core.display.HTML object>"
      ]
     },
     "metadata": {},
     "output_type": "display_data"
    },
    {
     "data": {
      "text/html": [
       "<h5 style=\"line-height:1.6\">Muere un presunto narco y otro resulta herido en la colisión contra una patrullera de la Guardia Civil entre Barbate y Tarifa</h5>"
      ],
      "text/plain": [
       "<IPython.core.display.HTML object>"
      ]
     },
     "metadata": {},
     "output_type": "display_data"
    },
    {
     "data": {
      "text/html": [
       "<a href=\"https://www.abc.es/espana/andalucia/cadiz/muere-presunto-narco-resulta-herido-colision-patrullera-20250207161442-nts.html\" target=\"_blank\">https://www.abc.es/espana/andalucia/cadiz/muere-presunto-narco-resulta-herido-colision-patrullera-20250207161442-nts.html</a>"
      ],
      "text/plain": [
       "<IPython.core.display.HTML object>"
      ]
     },
     "metadata": {},
     "output_type": "display_data"
    },
    {
     "data": {
      "text/html": [
       "<hr>"
      ],
      "text/plain": [
       "<IPython.core.display.HTML object>"
      ]
     },
     "metadata": {},
     "output_type": "display_data"
    }
   ],
   "source": [
    "display(HTML(f'<h2>Titulares del {hoy()}</h2>'))\n",
    "for a,b in periodicos.items():\n",
    "    consultar_titular(a,b)"
   ]
  },
  {
   "cell_type": "code",
   "execution_count": null,
   "id": "4785ae9a-a8c5-4242-85d9-7fa35993eff3",
   "metadata": {},
   "outputs": [],
   "source": []
  }
 ],
 "metadata": {
  "kernelspec": {
   "display_name": "Python 3 (ipykernel)",
   "language": "python",
   "name": "python3"
  },
  "language_info": {
   "codemirror_mode": {
    "name": "ipython",
    "version": 3
   },
   "file_extension": ".py",
   "mimetype": "text/x-python",
   "name": "python",
   "nbconvert_exporter": "python",
   "pygments_lexer": "ipython3",
   "version": "3.12.3"
  }
 },
 "nbformat": 4,
 "nbformat_minor": 5
}
