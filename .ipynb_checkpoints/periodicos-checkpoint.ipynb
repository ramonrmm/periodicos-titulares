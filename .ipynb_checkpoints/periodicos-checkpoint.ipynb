{
 "cells": [
  {
   "cell_type": "markdown",
   "id": "365b83d1-bf3f-4919-b581-9ab746c93313",
   "metadata": {},
   "source": [
    "# Consulta de titulares de los periódicos\n",
    "Mediante las librerías Requests y BeautifulSoup se hace webscraping a los periódicos más destacados en España para mostrar el titular principal con el que abren sus portadas. El resultado, además de imprimirlo por pantalla, lo grabamos en un archivo.\n",
    "\n",
    "**NOTA IMPORTANTE**. Muchos diarios tienen en su aviso legal o en sus robots.txt la prohibición de hacer web scraping a sus contenido. Con este pequeño programa solo se muestra, solo a efectos didácticos, cómo usar los comandos y funciones de Python en este sentido."
   ]
  },
  {
   "cell_type": "code",
   "execution_count": 2,
   "id": "a51bc1a7-7274-42eb-9d25-04d9aab815a5",
   "metadata": {},
   "outputs": [],
   "source": [
    "import requests # Para hacer la consulta\n",
    "from IPython.display import display, HTML # Para mostrar html en celdas de Jupiter Labs\n",
    "from datetime import datetime, timedelta # Para menejar fechas en Python\n",
    "from babel.dates import format_date # Para convertir las fechas a español\n",
    "from bs4 import BeautifulSoup #Para tratar el html de cada periódico\n",
    "import re # Para manejar expresiones regulares"
   ]
  },
  {
   "cell_type": "code",
   "execution_count": 3,
   "id": "8ca771ec-5d3d-412f-b6c9-36a70dcf6870",
   "metadata": {},
   "outputs": [],
   "source": [
    "periodicos = {\n",
    "    'El País': 'https://elpais.com/', \n",
    "    'El Mundo':'https://www.elmundo.es/', \n",
    "    'El Español':'https://www.elespanol.com/', \n",
    "    'El Periódico de España':'https://www.epe.es/es/',\n",
    "    'ABC':'https://www.abc.es/', \n",
    "    'La Vanguardia':'https://www.lavanguardia.com/', \n",
    "    'El Periódico':'https://www.elperiodico.com/es/', \n",
    "    'El Confidencial':'https://www.elconfidencial.com/', \n",
    "    '20 Minutos':'https://www.20minutos.es/', \n",
    "    'La Razón':'https://www.larazon.es/', \n",
    "    'elDiario.es':'https://www.eldiario.es/', \n",
    "    'Público':'https://www.publico.es/', \n",
    "    'Infolibre':'https://www.infolibre.es/', \n",
    "    'El Independiente':'https://www.elindependiente.com/', \n",
    "    'El Correo de Andalucía':'https://www.elcorreoweb.es', \n",
    "    'Diario de Sevilla':'https://www.diariodesevilla.es/', \n",
    "    'ABC de Sevilla':'https://www.abc.es/sevilla/'\n",
    "}\n",
    "headers = {\n",
    "    \"User-Agent\": \"Mozilla/5.0 (Windows NT 10.0; Win64; x64) AppleWebKit/537.36 (KHTML, like Gecko) Chrome/119.0.0.0 Safari/537.36\"\n",
    "}"
   ]
  },
  {
   "cell_type": "markdown",
   "id": "2da29f34-f84a-4df8-b29c-38981b577ccc",
   "metadata": {},
   "source": [
    "### Consultar primero qué etiquetas o clases tienen los titulares\n",
    "Hay que entrar en cada web y ver con qué etiqueta (h1, h2,...) y dentro como se configura en el html. Por ejemplo, si es el primer h1 de la página (o h2), si tiene etiquetas adicionales dentro, clases, etc. para hacer la búsqueda y el muestreo correcto del titular."
   ]
  },
  {
   "cell_type": "markdown",
   "id": "24ab5fcd-2cba-46f1-aa1d-7bf7e8f9b5a0",
   "metadata": {},
   "source": [
    "**Función consultar_titular(a,b)**. Esta función recibe dos argumentos string: el nombre del periódico y la URL. El resultado es que muestra el nombre del periódico y el titular principal. Aquí hacemos el request y con la respuesta y BeautifulSoup encontramos el titular. No retorna nada, solo hace toda la gestión y muestra el titular."
   ]
  },
  {
   "cell_type": "code",
   "execution_count": 6,
   "id": "95f6b737-2b4f-4ebe-b949-422859808963",
   "metadata": {},
   "outputs": [],
   "source": [
    "def consultar_titular(a,b):\n",
    "    response = requests.get(b,headers=headers)\n",
    "    soup = BeautifulSoup(response.text,'html5lib')\n",
    "    if a == \"El Mundo\":\n",
    "        titular = soup.find_all('h2',class_='ue-c-cover-content__headline')[0].text\n",
    "        enlace = soup.find_all('h2',class_='ue-c-cover-content__headline')[0].parent.get('href')\n",
    "    elif a == \"El Español\" or a == \"Diario de Sevilla\":\n",
    "        titular = soup.find_all('h2')[0].text.strip()\n",
    "        if a == \"El Español\":\n",
    "            enlace = soup.find_all('h2')[0].a.get('href')\n",
    "        else:\n",
    "            enlace = soup.find_all('h2')[0].parent.get('href')\n",
    "    elif a == \"El Correo de Andalucía\" or a == \"El Confidencial\":\n",
    "        titular = soup.find_all('h1')[1].text.strip()\n",
    "        enlace = find_all('h1')[1].parent.get('href')\n",
    "    elif a == \"20 Minutos\":\n",
    "        titular = soup.find_all('h1', id='')[0].a.text.strip()\n",
    "        enlace = soup.find_all('h1', id='')[0].a.get('href')\n",
    "    elif a == \"La Razón\":\n",
    "        titular = soup.find_all('h2',class_='article__title')[0].a.text.strip()\n",
    "        enlace = soup.find_all('h2',class_='article__title')[0].a.get('href')\n",
    "    elif a == \"Infolibre\":\n",
    "        titular = soup.find_all('h1')[0].text.strip()\n",
    "        enlace = soup.find_all('h1')[0].a.get('href')\n",
    "    else:\n",
    "        titular = soup.find_all('h2')[0].a.text.strip()\n",
    "        enlace = soup.find_all('h2')[0].a.get('href')\n",
    "    display(HTML(f'<h3>{a}</h3>'))\n",
    "    display(HTML(f'<h5 style=\"line-height:1.6\">{titular}</h5>'))\n",
    "    display(HTML(f'<a href=\"{enlace}\" target=\"_blank\">{enlace}</a>'))\n",
    "    display(HTML(f'<hr>'))\n",
    "    return    "
   ]
  },
  {
   "cell_type": "code",
   "execution_count": 7,
   "id": "20ca19c9-c44a-4e35-b054-c001725e32e2",
   "metadata": {},
   "outputs": [],
   "source": [
    "# Función que devuelve la fecha de hoy en español\n",
    "# Ejemplo: lunes 3 de febrero de 2025\n",
    "def hoy():\n",
    "    hoy = datetime.now()\n",
    "    fecha_español = format_date(hoy, format=\"full\", locale=\"es\")\n",
    "    return fecha_español"
   ]
  },
  {
   "cell_type": "markdown",
   "id": "b1e1cf0d-aa39-4f65-8a76-5c9aec22d58d",
   "metadata": {},
   "source": [
    "**Bloque principal**. Mediante un bucle se va recorriendo el diccionario de periódicos y llamando a la función correspondiente para que haga el request y muestre el titular."
   ]
  },
  {
   "cell_type": "code",
   "execution_count": 9,
   "id": "875a1d30-6015-44a7-a970-88b20b445406",
   "metadata": {},
   "outputs": [
    {
     "data": {
      "text/html": [
       "<h2>Titulares del viernes, 7 de febrero de 2025</h2>"
      ],
      "text/plain": [
       "<IPython.core.display.HTML object>"
      ]
     },
     "metadata": {},
     "output_type": "display_data"
    },
    {
     "data": {
      "text/html": [
       "<h3>El País</h3>"
      ],
      "text/plain": [
       "<IPython.core.display.HTML object>"
      ]
     },
     "metadata": {},
     "output_type": "display_data"
    },
    {
     "data": {
      "text/html": [
       "<h5 style=\"line-height:1.6\">La reforma de la dependencia elimina la incompatibilidad de prestaciones y refuerza la atención en los hogares</h5>"
      ],
      "text/plain": [
       "<IPython.core.display.HTML object>"
      ]
     },
     "metadata": {},
     "output_type": "display_data"
    },
    {
     "data": {
      "text/html": [
       "<a href=\"https://elpais.com/sociedad/2025-02-07/la-reforma-de-la-ley-de-dependencia-eliminara-la-incompatibilidad-de-prestaciones-y-refuerza-la-atencion-en-los-hogares.html\" target=\"_blank\">https://elpais.com/sociedad/2025-02-07/la-reforma-de-la-ley-de-dependencia-eliminara-la-incompatibilidad-de-prestaciones-y-refuerza-la-atencion-en-los-hogares.html</a>"
      ],
      "text/plain": [
       "<IPython.core.display.HTML object>"
      ]
     },
     "metadata": {},
     "output_type": "display_data"
    },
    {
     "data": {
      "text/html": [
       "<hr>"
      ],
      "text/plain": [
       "<IPython.core.display.HTML object>"
      ]
     },
     "metadata": {},
     "output_type": "display_data"
    },
    {
     "data": {
      "text/html": [
       "<h3>El Mundo</h3>"
      ],
      "text/plain": [
       "<IPython.core.display.HTML object>"
      ]
     },
     "metadata": {},
     "output_type": "display_data"
    },
    {
     "data": {
      "text/html": [
       "<h5 style=\"line-height:1.6\">Conde-Pumpido irrumpe por sorpresa en los recursos de los líderes del 1-O por la amnistía</h5>"
      ],
      "text/plain": [
       "<IPython.core.display.HTML object>"
      ]
     },
     "metadata": {},
     "output_type": "display_data"
    },
    {
     "data": {
      "text/html": [
       "<a href=\"https://www.elmundo.es/espana/2025/02/06/67a52870e9cf4ac23d8b456d.html\" target=\"_blank\">https://www.elmundo.es/espana/2025/02/06/67a52870e9cf4ac23d8b456d.html</a>"
      ],
      "text/plain": [
       "<IPython.core.display.HTML object>"
      ]
     },
     "metadata": {},
     "output_type": "display_data"
    },
    {
     "data": {
      "text/html": [
       "<hr>"
      ],
      "text/plain": [
       "<IPython.core.display.HTML object>"
      ]
     },
     "metadata": {},
     "output_type": "display_data"
    },
    {
     "data": {
      "text/html": [
       "<h3>El Español</h3>"
      ],
      "text/plain": [
       "<IPython.core.display.HTML object>"
      ]
     },
     "metadata": {},
     "output_type": "display_data"
    },
    {
     "data": {
      "text/html": [
       "<h5 style=\"line-height:1.6\">Pumpido da dos meses a seis letrados para redactar la ponencia del recurso del PP por la amnistía y acorta la espera de Puigdemont</h5>"
      ],
      "text/plain": [
       "<IPython.core.display.HTML object>"
      ]
     },
     "metadata": {},
     "output_type": "display_data"
    },
    {
     "data": {
      "text/html": [
       "<a href=\"/espana/tribunales/20250207/pumpido-da-meses-letrados-ponencia-recurso-pp-amnistia-acorta-espera-puigdemont/922158307_0.html\" target=\"_blank\">/espana/tribunales/20250207/pumpido-da-meses-letrados-ponencia-recurso-pp-amnistia-acorta-espera-puigdemont/922158307_0.html</a>"
      ],
      "text/plain": [
       "<IPython.core.display.HTML object>"
      ]
     },
     "metadata": {},
     "output_type": "display_data"
    },
    {
     "data": {
      "text/html": [
       "<hr>"
      ],
      "text/plain": [
       "<IPython.core.display.HTML object>"
      ]
     },
     "metadata": {},
     "output_type": "display_data"
    },
    {
     "data": {
      "text/html": [
       "<h3>El Periódico de España</h3>"
      ],
      "text/plain": [
       "<IPython.core.display.HTML object>"
      ]
     },
     "metadata": {},
     "output_type": "display_data"
    },
    {
     "data": {
      "text/html": [
       "<h5 style=\"line-height:1.6\">Sánchez se pone frente a Trump y reclama que la Unión Europea impulse una agenda propia</h5>"
      ],
      "text/plain": [
       "<IPython.core.display.HTML object>"
      ]
     },
     "metadata": {},
     "output_type": "display_data"
    },
    {
     "data": {
      "text/html": [
       "<a href=\"/es/politica/20250207/sanchez-trump-aranceles-ue-agenda-114060329\" target=\"_blank\">/es/politica/20250207/sanchez-trump-aranceles-ue-agenda-114060329</a>"
      ],
      "text/plain": [
       "<IPython.core.display.HTML object>"
      ]
     },
     "metadata": {},
     "output_type": "display_data"
    },
    {
     "data": {
      "text/html": [
       "<hr>"
      ],
      "text/plain": [
       "<IPython.core.display.HTML object>"
      ]
     },
     "metadata": {},
     "output_type": "display_data"
    },
    {
     "data": {
      "text/html": [
       "<h3>ABC</h3>"
      ],
      "text/plain": [
       "<IPython.core.display.HTML object>"
      ]
     },
     "metadata": {},
     "output_type": "display_data"
    },
    {
     "data": {
      "text/html": [
       "<h5 style=\"line-height:1.6\">Yolanda Díaz aboca a España a multas millonarias por desobedecer a Europa en materia laboral</h5>"
      ],
      "text/plain": [
       "<IPython.core.display.HTML object>"
      ]
     },
     "metadata": {},
     "output_type": "display_data"
    },
    {
     "data": {
      "text/html": [
       "<a href=\"https://www.abc.es/economia/diaz-aboca-espana-sanciones-millonarias-desobedecer-europa-20250207164408-nt.html\" target=\"_blank\">https://www.abc.es/economia/diaz-aboca-espana-sanciones-millonarias-desobedecer-europa-20250207164408-nt.html</a>"
      ],
      "text/plain": [
       "<IPython.core.display.HTML object>"
      ]
     },
     "metadata": {},
     "output_type": "display_data"
    },
    {
     "data": {
      "text/html": [
       "<hr>"
      ],
      "text/plain": [
       "<IPython.core.display.HTML object>"
      ]
     },
     "metadata": {},
     "output_type": "display_data"
    },
    {
     "data": {
      "text/html": [
       "<h3>La Vanguardia</h3>"
      ],
      "text/plain": [
       "<IPython.core.display.HTML object>"
      ]
     },
     "metadata": {},
     "output_type": "display_data"
    },
    {
     "data": {
      "text/html": [
       "<h5 style=\"line-height:1.6\">El Ayuntamiento de Barcelona anuncia la compra de la Casa Orsola</h5>"
      ],
      "text/plain": [
       "<IPython.core.display.HTML object>"
      ]
     },
     "metadata": {},
     "output_type": "display_data"
    },
    {
     "data": {
      "text/html": [
       "<a href=\"/local/barcelona/20250207/10361486/ayuntamiento-barcelona-anuncia-compra-casa-orsola.html\" target=\"_blank\">/local/barcelona/20250207/10361486/ayuntamiento-barcelona-anuncia-compra-casa-orsola.html</a>"
      ],
      "text/plain": [
       "<IPython.core.display.HTML object>"
      ]
     },
     "metadata": {},
     "output_type": "display_data"
    },
    {
     "data": {
      "text/html": [
       "<hr>"
      ],
      "text/plain": [
       "<IPython.core.display.HTML object>"
      ]
     },
     "metadata": {},
     "output_type": "display_data"
    },
    {
     "data": {
      "text/html": [
       "<h3>El Periódico</h3>"
      ],
      "text/plain": [
       "<IPython.core.display.HTML object>"
      ]
     },
     "metadata": {},
     "output_type": "display_data"
    },
    {
     "data": {
      "text/html": [
       "<h5 style=\"line-height:1.6\">El Ayuntamiento de Barcelona comprará la Casa Orsola junto con una entidad social</h5>"
      ],
      "text/plain": [
       "<IPython.core.display.HTML object>"
      ]
     },
     "metadata": {},
     "output_type": "display_data"
    },
    {
     "data": {
      "text/html": [
       "<a href=\"/es/barcelona/20250207/ayuntamiento-barcelona-comprara-casa-orsola-entidad-social-114071414\" target=\"_blank\">/es/barcelona/20250207/ayuntamiento-barcelona-comprara-casa-orsola-entidad-social-114071414</a>"
      ],
      "text/plain": [
       "<IPython.core.display.HTML object>"
      ]
     },
     "metadata": {},
     "output_type": "display_data"
    },
    {
     "data": {
      "text/html": [
       "<hr>"
      ],
      "text/plain": [
       "<IPython.core.display.HTML object>"
      ]
     },
     "metadata": {},
     "output_type": "display_data"
    },
    {
     "ename": "NameError",
     "evalue": "name 'find_all' is not defined",
     "output_type": "error",
     "traceback": [
      "\u001b[1;31m---------------------------------------------------------------------------\u001b[0m",
      "\u001b[1;31mNameError\u001b[0m                                 Traceback (most recent call last)",
      "Cell \u001b[1;32mIn[9], line 3\u001b[0m\n\u001b[0;32m      1\u001b[0m display(HTML(\u001b[38;5;124mf\u001b[39m\u001b[38;5;124m'\u001b[39m\u001b[38;5;124m<h2>Titulares del \u001b[39m\u001b[38;5;132;01m{\u001b[39;00mhoy()\u001b[38;5;132;01m}\u001b[39;00m\u001b[38;5;124m</h2>\u001b[39m\u001b[38;5;124m'\u001b[39m))\n\u001b[0;32m      2\u001b[0m \u001b[38;5;28;01mfor\u001b[39;00m a,b \u001b[38;5;129;01min\u001b[39;00m periodicos\u001b[38;5;241m.\u001b[39mitems():\n\u001b[1;32m----> 3\u001b[0m     consultar_titular(a,b)\n",
      "Cell \u001b[1;32mIn[6], line 15\u001b[0m, in \u001b[0;36mconsultar_titular\u001b[1;34m(a, b)\u001b[0m\n\u001b[0;32m     13\u001b[0m \u001b[38;5;28;01melif\u001b[39;00m a \u001b[38;5;241m==\u001b[39m \u001b[38;5;124m\"\u001b[39m\u001b[38;5;124mEl Correo de Andalucía\u001b[39m\u001b[38;5;124m\"\u001b[39m \u001b[38;5;129;01mor\u001b[39;00m a \u001b[38;5;241m==\u001b[39m \u001b[38;5;124m\"\u001b[39m\u001b[38;5;124mEl Confidencial\u001b[39m\u001b[38;5;124m\"\u001b[39m:\n\u001b[0;32m     14\u001b[0m     titular \u001b[38;5;241m=\u001b[39m soup\u001b[38;5;241m.\u001b[39mfind_all(\u001b[38;5;124m'\u001b[39m\u001b[38;5;124mh1\u001b[39m\u001b[38;5;124m'\u001b[39m)[\u001b[38;5;241m1\u001b[39m]\u001b[38;5;241m.\u001b[39mtext\u001b[38;5;241m.\u001b[39mstrip()\n\u001b[1;32m---> 15\u001b[0m     enlace \u001b[38;5;241m=\u001b[39m find_all(\u001b[38;5;124m'\u001b[39m\u001b[38;5;124mh1\u001b[39m\u001b[38;5;124m'\u001b[39m)[\u001b[38;5;241m1\u001b[39m]\u001b[38;5;241m.\u001b[39mparent\u001b[38;5;241m.\u001b[39mget(\u001b[38;5;124m'\u001b[39m\u001b[38;5;124mhref\u001b[39m\u001b[38;5;124m'\u001b[39m)\n\u001b[0;32m     16\u001b[0m \u001b[38;5;28;01melif\u001b[39;00m a \u001b[38;5;241m==\u001b[39m \u001b[38;5;124m\"\u001b[39m\u001b[38;5;124m20 Minutos\u001b[39m\u001b[38;5;124m\"\u001b[39m:\n\u001b[0;32m     17\u001b[0m     titular \u001b[38;5;241m=\u001b[39m soup\u001b[38;5;241m.\u001b[39mfind_all(\u001b[38;5;124m'\u001b[39m\u001b[38;5;124mh1\u001b[39m\u001b[38;5;124m'\u001b[39m, \u001b[38;5;28mid\u001b[39m\u001b[38;5;241m=\u001b[39m\u001b[38;5;124m'\u001b[39m\u001b[38;5;124m'\u001b[39m)[\u001b[38;5;241m0\u001b[39m]\u001b[38;5;241m.\u001b[39ma\u001b[38;5;241m.\u001b[39mtext\u001b[38;5;241m.\u001b[39mstrip()\n",
      "\u001b[1;31mNameError\u001b[0m: name 'find_all' is not defined"
     ]
    }
   ],
   "source": [
    "display(HTML(f'<h2>Titulares del {hoy()}</h2>'))\n",
    "for a,b in periodicos.items():\n",
    "    consultar_titular(a,b)"
   ]
  },
  {
   "cell_type": "code",
   "execution_count": null,
   "id": "4785ae9a-a8c5-4242-85d9-7fa35993eff3",
   "metadata": {},
   "outputs": [],
   "source": []
  }
 ],
 "metadata": {
  "kernelspec": {
   "display_name": "Python 3 (ipykernel)",
   "language": "python",
   "name": "python3"
  },
  "language_info": {
   "codemirror_mode": {
    "name": "ipython",
    "version": 3
   },
   "file_extension": ".py",
   "mimetype": "text/x-python",
   "name": "python",
   "nbconvert_exporter": "python",
   "pygments_lexer": "ipython3",
   "version": "3.12.3"
  }
 },
 "nbformat": 4,
 "nbformat_minor": 5
}
