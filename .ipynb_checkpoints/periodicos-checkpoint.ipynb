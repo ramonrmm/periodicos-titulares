{
 "cells": [
  {
   "cell_type": "markdown",
   "id": "365b83d1-bf3f-4919-b581-9ab746c93313",
   "metadata": {},
   "source": [
    "# Consulta de titulares de los periódicos\n",
    "Mediante las librerías Requests y BeautifulSoup se hace webscraping a los periódicos más destacados en España para mostrar el titular principal con el que abren sus portadas. El resultado, además de imprimirlo por pantalla, lo grabamos en un archivo.\n",
    "\n",
    "**NOTA IMPORTANTE**. Muchos diarios tienen en su aviso legal o en sus robots.txt la prohibición de hacer web scraping a sus contenidos. Con este pequeño programa solo se muestra, a efectos didácticos, cómo usar los comandos y funciones de Python en este sentido."
   ]
  },
  {
   "cell_type": "code",
   "execution_count": 2,
   "id": "a51bc1a7-7274-42eb-9d25-04d9aab815a5",
   "metadata": {},
   "outputs": [],
   "source": [
    "import requests # Para hacer la consulta\n",
    "from IPython.display import display, HTML # Para mostrar html en celdas de Jupiter Labs\n",
    "from datetime import datetime, timedelta # Para menejar fechas en Python\n",
    "from babel.dates import format_date, format_time # Para convertir las fechas y horas a español\n",
    "from bs4 import BeautifulSoup #Para tratar el html de cada periódico\n",
    "import re # Para manejar expresiones regulares"
   ]
  },
  {
   "cell_type": "code",
   "execution_count": 3,
   "id": "8ca771ec-5d3d-412f-b6c9-36a70dcf6870",
   "metadata": {},
   "outputs": [],
   "source": [
    "periodicos = {\n",
    "    'El País': 'https://elpais.com/', \n",
    "    'El Mundo':'https://www.elmundo.es/', \n",
    "    'El Español':'https://www.elespanol.com/', \n",
    "    'El Periódico de España':'https://www.epe.es/es/',\n",
    "    'ABC':'https://www.abc.es/', \n",
    "    'La Vanguardia':'https://www.lavanguardia.com/', \n",
    "    'El Periódico':'https://www.elperiodico.com/es/', \n",
    "    'El Confidencial':'https://www.elconfidencial.com/', \n",
    "    '20 Minutos':'https://www.20minutos.es/', \n",
    "    'La Razón':'https://www.larazon.es/', \n",
    "    'elDiario.es':'https://www.eldiario.es/', \n",
    "    'Público':'https://www.publico.es/', \n",
    "    'Infolibre':'https://www.infolibre.es/', \n",
    "    'El Independiente':'https://www.elindependiente.com/', \n",
    "    'El Correo de Andalucía':'https://www.elcorreoweb.es', \n",
    "    'Diario de Sevilla':'https://www.diariodesevilla.es/', \n",
    "    'ABC de Sevilla':'https://www.abc.es/sevilla/'\n",
    "}\n",
    "headers = {\n",
    "    \"User-Agent\": \"Mozilla/5.0 (Windows NT 10.0; Win64; x64) AppleWebKit/537.36 (KHTML, like Gecko) Chrome/119.0.0.0 Safari/537.36\"\n",
    "}"
   ]
  },
  {
   "cell_type": "markdown",
   "id": "2da29f34-f84a-4df8-b29c-38981b577ccc",
   "metadata": {},
   "source": [
    "### Consultar primero qué etiquetas o clases tienen los titulares\n",
    "Hay que entrar en cada web y ver con qué etiqueta (h1, h2,...) y dentro como se configura en el html. Por ejemplo, si es el primer h1 de la página (o h2), si tiene etiquetas adicionales dentro, clases, etc. para hacer la búsqueda y el muestreo correcto del titular.\n",
    "\n",
    "**NOTA:** Hay que tener igualmente en cuenta que las distintas webs de los periódicos pueden cambiar el html, y si ahora el titular de apertura es un H1, en siguientes revisiones de diseño puede ser un H2."
   ]
  },
  {
   "cell_type": "markdown",
   "id": "24ab5fcd-2cba-46f1-aa1d-7bf7e8f9b5a0",
   "metadata": {},
   "source": [
    "**Función consultar_titular(a,b)**. Esta función recibe dos argumentos string: el nombre del periódico y la URL. El resultado es que muestra el nombre del periódico y el titular principal. Aquí hacemos el request y con la respuesta y BeautifulSoup encontramos el titular. No retorna nada, solo hace toda la gestión y muestra el titular."
   ]
  },
  {
   "cell_type": "code",
   "execution_count": 6,
   "id": "95f6b737-2b4f-4ebe-b949-422859808963",
   "metadata": {},
   "outputs": [],
   "source": [
    "def consultar_titular(a,b,contenido_HTML):\n",
    "    try:\n",
    "        response = requests.get(b,headers=headers)\n",
    "        soup = BeautifulSoup(response.text,'html5lib')\n",
    "        if a == \"El Mundo\":\n",
    "            titular = soup.find_all('h2',class_='ue-c-cover-content__headline')[0].text\n",
    "            enlace = soup.find_all('h2',class_='ue-c-cover-content__headline')[0].parent.get('href')\n",
    "        elif a == \"El Español\" or a == \"Diario de Sevilla\":\n",
    "            titular = soup.find_all('h2')[0].text.strip()\n",
    "            if a == \"El Español\":\n",
    "                enlace = 'https://www.elespanol.com' + soup.find_all('h2')[0].a.get('href')\n",
    "            else:\n",
    "                enlace = soup.find_all('h2')[0].parent.get('href')\n",
    "        elif a == \"El Correo de Andalucía\" or a == \"El Confidencial\":\n",
    "            titular = soup.find_all('h1')[1].text.strip()\n",
    "            enlace = soup.find_all('h1')[1].parent.get('href')\n",
    "        elif a == \"20 Minutos\":\n",
    "            titular = soup.find_all('h1', id='')[0].a.text.strip()\n",
    "            enlace = soup.find_all('h1', id='')[0].a.get('href')\n",
    "        elif a == \"La Razón\":\n",
    "            titular = soup.find_all('h2',class_='article__title')[0].a.text.strip()\n",
    "            enlace = soup.find_all('h2',class_='article__title')[0].a.get('href')\n",
    "        elif a == \"Infolibre\":\n",
    "            titular = soup.find_all('h1')[0].text.strip()\n",
    "            enlace = 'https://www.infolibre.es' + soup.find_all('h1')[0].a.get('href')\n",
    "        else:\n",
    "            titular = soup.find_all('h2')[0].a.text.strip()\n",
    "            if a == \"El Periódico de España\":\n",
    "                enlace = 'https://www.epe.es' + soup.find_all('h2')[0].a.get('href')\n",
    "            elif a == \"La Vanguardia\": \n",
    "                enlace = 'https://www.lavanguardia.com' + soup.find_all('h2')[0].a.get('href')\n",
    "            elif a == \"El Periódico\":\n",
    "                enlace = 'https://www.elperiodico.com' + soup.find_all('h2')[0].a.get('href')\n",
    "            elif a == \"elDiario.es\":\n",
    "                enlace = 'https://www.eldiario.es' + soup.find_all('h2')[0].a.get('href')\n",
    "            elif a == \"Público\":\n",
    "                enlace = 'https://www.publico.es' + soup.find_all('h2')[0].a.get('href')\n",
    "            else:\n",
    "                enlace = soup.find_all('h2')[0].a.get('href')\n",
    "                \n",
    "        display(HTML(f'<h2>{a}</h2>'))\n",
    "        contenido_HTML += f'<h2>{a}</h2>\\n'\n",
    "        display(HTML(f'<h3 style=\"line-height:1.4\">{titular}</h3>'))\n",
    "        contenido_HTML += f'<h3 style=\"line-height:1.4\">{titular}</h3>\\n'\n",
    "        display(HTML(f'<a href=\"{enlace}\" target=\"_blank\">{enlace}</a>'))\n",
    "        contenido_HTML += f'<a href=\"{enlace}\" target=\"_blank\">{enlace}</a>\\n'\n",
    "        display(HTML(f'<hr>'))\n",
    "        contenido_HTML += f'<hr>\\n'\n",
    "    except requests.exceptions.RequestException as e:\n",
    "        print(f\"Error con {a}: {e}\")\n",
    "    except Exception as e:\n",
    "        print(f\"Error inesperado en {a}: {e}\")\n",
    "    return contenido_HTML"
   ]
  },
  {
   "cell_type": "markdown",
   "id": "67249793-d596-40f8-888a-d62487055431",
   "metadata": {},
   "source": [
    "### Aquí defino las dos funciones para formatear las fechas de hoy y la hora actual de consulta"
   ]
  },
  {
   "cell_type": "code",
   "execution_count": 7,
   "id": "20ca19c9-c44a-4e35-b054-c001725e32e2",
   "metadata": {},
   "outputs": [],
   "source": [
    "# Función que devuelve la fecha de hoy en español\n",
    "# Ejemplo: lunes 3 de febrero de 2025\n",
    "def hoy():\n",
    "    hoy = datetime.now()\n",
    "    fecha_español = format_date(hoy, format=\"full\", locale=\"es\")\n",
    "    return fecha_español\n",
    "\n",
    "# Función que devuelve la hora en este momento en español\n",
    "# Ejemplo: 14:35\n",
    "def ahora():\n",
    "    ahora = datetime.now()\n",
    "    hora_espanol = format_time(ahora, format='short', locale='es_ES')\n",
    "    return hora_espanol"
   ]
  },
  {
   "cell_type": "markdown",
   "id": "b1e1cf0d-aa39-4f65-8a76-5c9aec22d58d",
   "metadata": {},
   "source": [
    "**Bloque principal**. Mediante un bucle se va recorriendo el diccionario de periódicos y llamando a la función correspondiente para que haga el request y muestre el titular.\n",
    "\n",
    "**contenido_HTML**. En esta variable se va a ir almacenando lo que se va imprimiendo en pantalla, para después grabarlo en el fichero 'titulares-periodico.htm'"
   ]
  },
  {
   "cell_type": "code",
   "execution_count": 9,
   "id": "875a1d30-6015-44a7-a970-88b20b445406",
   "metadata": {},
   "outputs": [
    {
     "data": {
      "text/html": [
       "<h1>Titulares del viernes, 7 de febrero de 2025</h1>"
      ],
      "text/plain": [
       "<IPython.core.display.HTML object>"
      ]
     },
     "metadata": {},
     "output_type": "display_data"
    },
    {
     "data": {
      "text/html": [
       "<h4>Hora de la consulta: 19:12</h4>"
      ],
      "text/plain": [
       "<IPython.core.display.HTML object>"
      ]
     },
     "metadata": {},
     "output_type": "display_data"
    },
    {
     "data": {
      "text/html": [
       "<hr>"
      ],
      "text/plain": [
       "<IPython.core.display.HTML object>"
      ]
     },
     "metadata": {},
     "output_type": "display_data"
    },
    {
     "data": {
      "text/html": [
       "<h2>El País</h2>"
      ],
      "text/plain": [
       "<IPython.core.display.HTML object>"
      ]
     },
     "metadata": {},
     "output_type": "display_data"
    },
    {
     "data": {
      "text/html": [
       "<h3 style=\"line-height:1.4\">El Tribunal Penal Internacional pide unidad a los Estados ante los ataques de Trump</h3>"
      ],
      "text/plain": [
       "<IPython.core.display.HTML object>"
      ]
     },
     "metadata": {},
     "output_type": "display_data"
    },
    {
     "data": {
      "text/html": [
       "<a href=\"https://elpais.com/internacional/2025-02-06/trump-sancionara-al-personal-del-tribunal-penal-internacional-que-investigue-a-ciudadanos-de-ee-uu-o-sus-aliados-incluido-israel.html\" target=\"_blank\">https://elpais.com/internacional/2025-02-06/trump-sancionara-al-personal-del-tribunal-penal-internacional-que-investigue-a-ciudadanos-de-ee-uu-o-sus-aliados-incluido-israel.html</a>"
      ],
      "text/plain": [
       "<IPython.core.display.HTML object>"
      ]
     },
     "metadata": {},
     "output_type": "display_data"
    },
    {
     "data": {
      "text/html": [
       "<hr>"
      ],
      "text/plain": [
       "<IPython.core.display.HTML object>"
      ]
     },
     "metadata": {},
     "output_type": "display_data"
    },
    {
     "data": {
      "text/html": [
       "<h2>El Mundo</h2>"
      ],
      "text/plain": [
       "<IPython.core.display.HTML object>"
      ]
     },
     "metadata": {},
     "output_type": "display_data"
    },
    {
     "data": {
      "text/html": [
       "<h3 style=\"line-height:1.4\">Uno de los aspirantes a la plaza que ganó David Sánchez asegura que nunca conocieron las notas del concurso</h3>"
      ],
      "text/plain": [
       "<IPython.core.display.HTML object>"
      ]
     },
     "metadata": {},
     "output_type": "display_data"
    },
    {
     "data": {
      "text/html": [
       "<a href=\"https://www.elmundo.es/espana/2025/02/07/67a601e0e9cf4aae038b458e.html\" target=\"_blank\">https://www.elmundo.es/espana/2025/02/07/67a601e0e9cf4aae038b458e.html</a>"
      ],
      "text/plain": [
       "<IPython.core.display.HTML object>"
      ]
     },
     "metadata": {},
     "output_type": "display_data"
    },
    {
     "data": {
      "text/html": [
       "<hr>"
      ],
      "text/plain": [
       "<IPython.core.display.HTML object>"
      ]
     },
     "metadata": {},
     "output_type": "display_data"
    },
    {
     "data": {
      "text/html": [
       "<h2>El Español</h2>"
      ],
      "text/plain": [
       "<IPython.core.display.HTML object>"
      ]
     },
     "metadata": {},
     "output_type": "display_data"
    },
    {
     "data": {
      "text/html": [
       "<h3 style=\"line-height:1.4\">El PP rechaza el reparto de menas que excluye a País Vasco y Cataluña \"con criterios mezquinos\"</h3>"
      ],
      "text/plain": [
       "<IPython.core.display.HTML object>"
      ]
     },
     "metadata": {},
     "output_type": "display_data"
    },
    {
     "data": {
      "text/html": [
       "<a href=\"https://www.elespanol.com/espana/politica/20250207/pp-rechaza-pacto-reparto-menas-deja-cataluna-pais-vasco-criterios-politicos-mezquinos/922408083_0.html\" target=\"_blank\">https://www.elespanol.com/espana/politica/20250207/pp-rechaza-pacto-reparto-menas-deja-cataluna-pais-vasco-criterios-politicos-mezquinos/922408083_0.html</a>"
      ],
      "text/plain": [
       "<IPython.core.display.HTML object>"
      ]
     },
     "metadata": {},
     "output_type": "display_data"
    },
    {
     "data": {
      "text/html": [
       "<hr>"
      ],
      "text/plain": [
       "<IPython.core.display.HTML object>"
      ]
     },
     "metadata": {},
     "output_type": "display_data"
    },
    {
     "data": {
      "text/html": [
       "<h2>El Periódico de España</h2>"
      ],
      "text/plain": [
       "<IPython.core.display.HTML object>"
      ]
     },
     "metadata": {},
     "output_type": "display_data"
    },
    {
     "data": {
      "text/html": [
       "<h3 style=\"line-height:1.4\">El PP votará contra el traslado de 4.400 menores migrantes porque el pacto del Gobierno y Canarias es \"mezquino\"</h3>"
      ],
      "text/plain": [
       "<IPython.core.display.HTML object>"
      ]
     },
     "metadata": {},
     "output_type": "display_data"
    },
    {
     "data": {
      "text/html": [
       "<a href=\"https://www.epe.es/es/sociedad/20250207/pp-avisa-votara-contra-traslado-menores-migrantes-canarias-114080883\" target=\"_blank\">https://www.epe.es/es/sociedad/20250207/pp-avisa-votara-contra-traslado-menores-migrantes-canarias-114080883</a>"
      ],
      "text/plain": [
       "<IPython.core.display.HTML object>"
      ]
     },
     "metadata": {},
     "output_type": "display_data"
    },
    {
     "data": {
      "text/html": [
       "<hr>"
      ],
      "text/plain": [
       "<IPython.core.display.HTML object>"
      ]
     },
     "metadata": {},
     "output_type": "display_data"
    },
    {
     "data": {
      "text/html": [
       "<h2>ABC</h2>"
      ],
      "text/plain": [
       "<IPython.core.display.HTML object>"
      ]
     },
     "metadata": {},
     "output_type": "display_data"
    },
    {
     "data": {
      "text/html": [
       "<h3 style=\"line-height:1.4\">Uno de los aspirantes al puesto del hermano de Sánchez no pudo ver las notas tras el proceso de selección</h3>"
      ],
      "text/plain": [
       "<IPython.core.display.HTML object>"
      ]
     },
     "metadata": {},
     "output_type": "display_data"
    },
    {
     "data": {
      "text/html": [
       "<a href=\"https://www.abc.es/espana/aspirantes-puesto-termino-ocupando-hermano-pedro-sanchez-20250207151045-nt.html\" target=\"_blank\">https://www.abc.es/espana/aspirantes-puesto-termino-ocupando-hermano-pedro-sanchez-20250207151045-nt.html</a>"
      ],
      "text/plain": [
       "<IPython.core.display.HTML object>"
      ]
     },
     "metadata": {},
     "output_type": "display_data"
    },
    {
     "data": {
      "text/html": [
       "<hr>"
      ],
      "text/plain": [
       "<IPython.core.display.HTML object>"
      ]
     },
     "metadata": {},
     "output_type": "display_data"
    },
    {
     "data": {
      "text/html": [
       "<h2>La Vanguardia</h2>"
      ],
      "text/plain": [
       "<IPython.core.display.HTML object>"
      ]
     },
     "metadata": {},
     "output_type": "display_data"
    },
    {
     "data": {
      "text/html": [
       "<h3 style=\"line-height:1.4\">El Ayuntamiento de Barcelona y Hàbitat 3 comprarán casa Orsola por nueve millones</h3>"
      ],
      "text/plain": [
       "<IPython.core.display.HTML object>"
      ]
     },
     "metadata": {},
     "output_type": "display_data"
    },
    {
     "data": {
      "text/html": [
       "<a href=\"https://www.lavanguardia.com/local/barcelona/20250207/10362694/habitat-3-ayuntamiento-compraran-casa-orsola-nueve-millones.html\" target=\"_blank\">https://www.lavanguardia.com/local/barcelona/20250207/10362694/habitat-3-ayuntamiento-compraran-casa-orsola-nueve-millones.html</a>"
      ],
      "text/plain": [
       "<IPython.core.display.HTML object>"
      ]
     },
     "metadata": {},
     "output_type": "display_data"
    },
    {
     "data": {
      "text/html": [
       "<hr>"
      ],
      "text/plain": [
       "<IPython.core.display.HTML object>"
      ]
     },
     "metadata": {},
     "output_type": "display_data"
    },
    {
     "data": {
      "text/html": [
       "<h2>El Periódico</h2>"
      ],
      "text/plain": [
       "<IPython.core.display.HTML object>"
      ]
     },
     "metadata": {},
     "output_type": "display_data"
    },
    {
     "data": {
      "text/html": [
       "<h3 style=\"line-height:1.4\">La recta final de las Golden Visa acelera la venta a extranjeros de pisos de más de medio millón en Barcelona y empuja los precios</h3>"
      ],
      "text/plain": [
       "<IPython.core.display.HTML object>"
      ]
     },
     "metadata": {},
     "output_type": "display_data"
    },
    {
     "data": {
      "text/html": [
       "<a href=\"https://www.elperiodico.com/es/barcelona/20250207/recta-final-golden-visa-acelera-ventas-pisos-medio-millon-barcelona-114081589\" target=\"_blank\">https://www.elperiodico.com/es/barcelona/20250207/recta-final-golden-visa-acelera-ventas-pisos-medio-millon-barcelona-114081589</a>"
      ],
      "text/plain": [
       "<IPython.core.display.HTML object>"
      ]
     },
     "metadata": {},
     "output_type": "display_data"
    },
    {
     "data": {
      "text/html": [
       "<hr>"
      ],
      "text/plain": [
       "<IPython.core.display.HTML object>"
      ]
     },
     "metadata": {},
     "output_type": "display_data"
    },
    {
     "data": {
      "text/html": [
       "<h2>El Confidencial</h2>"
      ],
      "text/plain": [
       "<IPython.core.display.HTML object>"
      ]
     },
     "metadata": {},
     "output_type": "display_data"
    },
    {
     "data": {
      "text/html": [
       "<h3 style=\"line-height:1.4\">Feijóo propone una deducción del 20% del IRPF a los jóvenes que ahorren para comprar vivienda</h3>"
      ],
      "text/plain": [
       "<IPython.core.display.HTML object>"
      ]
     },
     "metadata": {},
     "output_type": "display_data"
    },
    {
     "data": {
      "text/html": [
       "<a href=\"https://www.elconfidencial.com/espana/2025-02-07/feijoo-propone-una-deduccion-del-20-del-irpf-a-los-jovenes-que-ahorren-para-comprar-vivienda_4059750/\" target=\"_blank\">https://www.elconfidencial.com/espana/2025-02-07/feijoo-propone-una-deduccion-del-20-del-irpf-a-los-jovenes-que-ahorren-para-comprar-vivienda_4059750/</a>"
      ],
      "text/plain": [
       "<IPython.core.display.HTML object>"
      ]
     },
     "metadata": {},
     "output_type": "display_data"
    },
    {
     "data": {
      "text/html": [
       "<hr>"
      ],
      "text/plain": [
       "<IPython.core.display.HTML object>"
      ]
     },
     "metadata": {},
     "output_type": "display_data"
    },
    {
     "data": {
      "text/html": [
       "<h2>20 Minutos</h2>"
      ],
      "text/plain": [
       "<IPython.core.display.HTML object>"
      ]
     },
     "metadata": {},
     "output_type": "display_data"
    },
    {
     "data": {
      "text/html": [
       "<h3 style=\"line-height:1.4\">El Gobierno no aclara si Cataluña y País Vasco se quedarán fuera de la reubicación de menores pero incide en su \"esfuerzo previo\"</h3>"
      ],
      "text/plain": [
       "<IPython.core.display.HTML object>"
      ]
     },
     "metadata": {},
     "output_type": "display_data"
    },
    {
     "data": {
      "text/html": [
       "<a href=\"https://www.20minutos.es/noticia/5680302/0/gobierno-no-aclara-si-cataluna-pais-vasco-se-quedaran-fuera-reubicacion-menores-pero-incide-su-esfuerzo-previo/\" target=\"_blank\">https://www.20minutos.es/noticia/5680302/0/gobierno-no-aclara-si-cataluna-pais-vasco-se-quedaran-fuera-reubicacion-menores-pero-incide-su-esfuerzo-previo/</a>"
      ],
      "text/plain": [
       "<IPython.core.display.HTML object>"
      ]
     },
     "metadata": {},
     "output_type": "display_data"
    },
    {
     "data": {
      "text/html": [
       "<hr>"
      ],
      "text/plain": [
       "<IPython.core.display.HTML object>"
      ]
     },
     "metadata": {},
     "output_type": "display_data"
    },
    {
     "data": {
      "text/html": [
       "<h2>La Razón</h2>"
      ],
      "text/plain": [
       "<IPython.core.display.HTML object>"
      ]
     },
     "metadata": {},
     "output_type": "display_data"
    },
    {
     "data": {
      "text/html": [
       "<h3 style=\"line-height:1.4\">Un rival de David Sánchez por el puesto en la Diputación revela que nunca conocieron los resultados del concurso</h3>"
      ],
      "text/plain": [
       "<IPython.core.display.HTML object>"
      ]
     },
     "metadata": {},
     "output_type": "display_data"
    },
    {
     "data": {
      "text/html": [
       "<a href=\"https://www.larazon.es/espana/rival-david-sanchez-puesto-diputacion-badajoz-revela-que-nunca-conocieron-resultados-concurso_2025020767a63d90797cbb0001443db9.html\" target=\"_blank\">https://www.larazon.es/espana/rival-david-sanchez-puesto-diputacion-badajoz-revela-que-nunca-conocieron-resultados-concurso_2025020767a63d90797cbb0001443db9.html</a>"
      ],
      "text/plain": [
       "<IPython.core.display.HTML object>"
      ]
     },
     "metadata": {},
     "output_type": "display_data"
    },
    {
     "data": {
      "text/html": [
       "<hr>"
      ],
      "text/plain": [
       "<IPython.core.display.HTML object>"
      ]
     },
     "metadata": {},
     "output_type": "display_data"
    },
    {
     "data": {
      "text/html": [
       "<h2>elDiario.es</h2>"
      ],
      "text/plain": [
       "<IPython.core.display.HTML object>"
      ]
     },
     "metadata": {},
     "output_type": "display_data"
    },
    {
     "data": {
      "text/html": [
       "<h3 style=\"line-height:1.4\">El Gobierno publica las nuevas condiciones para Muface y da a las aseguradoras hasta el 4 de marzo para sumarse</h3>"
      ],
      "text/plain": [
       "<IPython.core.display.HTML object>"
      ]
     },
     "metadata": {},
     "output_type": "display_data"
    },
    {
     "data": {
      "text/html": [
       "<a href=\"https://www.eldiario.es/economia/gobierno-publica-nuevas-condiciones-muface-da-aseguradoras-4-marzo-sumarse_1_12036294.html\" target=\"_blank\">https://www.eldiario.es/economia/gobierno-publica-nuevas-condiciones-muface-da-aseguradoras-4-marzo-sumarse_1_12036294.html</a>"
      ],
      "text/plain": [
       "<IPython.core.display.HTML object>"
      ]
     },
     "metadata": {},
     "output_type": "display_data"
    },
    {
     "data": {
      "text/html": [
       "<hr>"
      ],
      "text/plain": [
       "<IPython.core.display.HTML object>"
      ]
     },
     "metadata": {},
     "output_type": "display_data"
    },
    {
     "data": {
      "text/html": [
       "<h2>Público</h2>"
      ],
      "text/plain": [
       "<IPython.core.display.HTML object>"
      ]
     },
     "metadata": {},
     "output_type": "display_data"
    },
    {
     "data": {
      "text/html": [
       "<h3 style=\"line-height:1.4\">Las viviendas de la Casa Orsola serán gestionadas por la entidad Hàbitat3 con criterios sociales y precios de alquiler asequible</h3>"
      ],
      "text/plain": [
       "<IPython.core.display.HTML object>"
      ]
     },
     "metadata": {},
     "output_type": "display_data"
    },
    {
     "data": {
      "text/html": [
       "<a href=\"https://www.publico.es/sociedad/viviendas-casa-orsola-seran-gestionadas-entidad-habitat3-criterios-sociales-precios-alquiler-asequible.html\" target=\"_blank\">https://www.publico.es/sociedad/viviendas-casa-orsola-seran-gestionadas-entidad-habitat3-criterios-sociales-precios-alquiler-asequible.html</a>"
      ],
      "text/plain": [
       "<IPython.core.display.HTML object>"
      ]
     },
     "metadata": {},
     "output_type": "display_data"
    },
    {
     "data": {
      "text/html": [
       "<hr>"
      ],
      "text/plain": [
       "<IPython.core.display.HTML object>"
      ]
     },
     "metadata": {},
     "output_type": "display_data"
    },
    {
     "data": {
      "text/html": [
       "<h2>Infolibre</h2>"
      ],
      "text/plain": [
       "<IPython.core.display.HTML object>"
      ]
     },
     "metadata": {},
     "output_type": "display_data"
    },
    {
     "data": {
      "text/html": [
       "<h3 style=\"line-height:1.4\">Entre el miedo y el descrédito: la UE calla ante la amenaza de limpieza étnica de Trump en Gaza</h3>"
      ],
      "text/plain": [
       "<IPython.core.display.HTML object>"
      ]
     },
     "metadata": {},
     "output_type": "display_data"
    },
    {
     "data": {
      "text/html": [
       "<a href=\"https://www.infolibre.es/internacional/sanciona-bloquea-armas-rompe-relaciones-ue-sigue-muda-frente-limpieza-gaza_1_1940901.html\" target=\"_blank\">https://www.infolibre.es/internacional/sanciona-bloquea-armas-rompe-relaciones-ue-sigue-muda-frente-limpieza-gaza_1_1940901.html</a>"
      ],
      "text/plain": [
       "<IPython.core.display.HTML object>"
      ]
     },
     "metadata": {},
     "output_type": "display_data"
    },
    {
     "data": {
      "text/html": [
       "<hr>"
      ],
      "text/plain": [
       "<IPython.core.display.HTML object>"
      ]
     },
     "metadata": {},
     "output_type": "display_data"
    },
    {
     "data": {
      "text/html": [
       "<h2>El Independiente</h2>"
      ],
      "text/plain": [
       "<IPython.core.display.HTML object>"
      ]
     },
     "metadata": {},
     "output_type": "display_data"
    },
    {
     "data": {
      "text/html": [
       "<h3 style=\"line-height:1.4\">González-Bueno (Sabadell), sobre la OPA de BBVA: \"La operación no tiene sentido a este precio\"</h3>"
      ],
      "text/plain": [
       "<IPython.core.display.HTML object>"
      ]
     },
     "metadata": {},
     "output_type": "display_data"
    },
    {
     "data": {
      "text/html": [
       "<a href=\"https://www.elindependiente.com/economia/2025/02/07/opa-bbva-sabadell-bueno/\" target=\"_blank\">https://www.elindependiente.com/economia/2025/02/07/opa-bbva-sabadell-bueno/</a>"
      ],
      "text/plain": [
       "<IPython.core.display.HTML object>"
      ]
     },
     "metadata": {},
     "output_type": "display_data"
    },
    {
     "data": {
      "text/html": [
       "<hr>"
      ],
      "text/plain": [
       "<IPython.core.display.HTML object>"
      ]
     },
     "metadata": {},
     "output_type": "display_data"
    },
    {
     "data": {
      "text/html": [
       "<h2>El Correo de Andalucía</h2>"
      ],
      "text/plain": [
       "<IPython.core.display.HTML object>"
      ]
     },
     "metadata": {},
     "output_type": "display_data"
    },
    {
     "data": {
      "text/html": [
       "<h3 style=\"line-height:1.4\">Dos jóvenes muertas y otras dos heridas en un accidente de tráfico en Estepa</h3>"
      ],
      "text/plain": [
       "<IPython.core.display.HTML object>"
      ]
     },
     "metadata": {},
     "output_type": "display_data"
    },
    {
     "data": {
      "text/html": [
       "<a href=\"https://www.elcorreoweb.es/sevilla/2025/02/07/jovenes-muertas-heridas-accidente-trafico-114089409.html\" target=\"_blank\">https://www.elcorreoweb.es/sevilla/2025/02/07/jovenes-muertas-heridas-accidente-trafico-114089409.html</a>"
      ],
      "text/plain": [
       "<IPython.core.display.HTML object>"
      ]
     },
     "metadata": {},
     "output_type": "display_data"
    },
    {
     "data": {
      "text/html": [
       "<hr>"
      ],
      "text/plain": [
       "<IPython.core.display.HTML object>"
      ]
     },
     "metadata": {},
     "output_type": "display_data"
    },
    {
     "data": {
      "text/html": [
       "<h2>Diario de Sevilla</h2>"
      ],
      "text/plain": [
       "<IPython.core.display.HTML object>"
      ]
     },
     "metadata": {},
     "output_type": "display_data"
    },
    {
     "data": {
      "text/html": [
       "<h3 style=\"line-height:1.4\">Dos jóvenes muertas y otras dos heridas en un accidente de tráfico en Estepa</h3>"
      ],
      "text/plain": [
       "<IPython.core.display.HTML object>"
      ]
     },
     "metadata": {},
     "output_type": "display_data"
    },
    {
     "data": {
      "text/html": [
       "<a href=\"https://www.diariodesevilla.es/provincia/jovenes-muertas-heridas-accidente-trafico_0_2003298147.html\" target=\"_blank\">https://www.diariodesevilla.es/provincia/jovenes-muertas-heridas-accidente-trafico_0_2003298147.html</a>"
      ],
      "text/plain": [
       "<IPython.core.display.HTML object>"
      ]
     },
     "metadata": {},
     "output_type": "display_data"
    },
    {
     "data": {
      "text/html": [
       "<hr>"
      ],
      "text/plain": [
       "<IPython.core.display.HTML object>"
      ]
     },
     "metadata": {},
     "output_type": "display_data"
    },
    {
     "data": {
      "text/html": [
       "<h2>ABC de Sevilla</h2>"
      ],
      "text/plain": [
       "<IPython.core.display.HTML object>"
      ]
     },
     "metadata": {},
     "output_type": "display_data"
    },
    {
     "data": {
      "text/html": [
       "<h3 style=\"line-height:1.4\">Dos jóvenes muertas y otras dos heridas al caer un coche por un desnivel en la A-92 en Estepa</h3>"
      ],
      "text/plain": [
       "<IPython.core.display.HTML object>"
      ]
     },
     "metadata": {},
     "output_type": "display_data"
    },
    {
     "data": {
      "text/html": [
       "<a href=\"https://www.abc.es/sevilla/ciudad/dos-jovenes-muertas-caer-coche-desnivel-a92-20250207182455-nts.html\" target=\"_blank\">https://www.abc.es/sevilla/ciudad/dos-jovenes-muertas-caer-coche-desnivel-a92-20250207182455-nts.html</a>"
      ],
      "text/plain": [
       "<IPython.core.display.HTML object>"
      ]
     },
     "metadata": {},
     "output_type": "display_data"
    },
    {
     "data": {
      "text/html": [
       "<hr>"
      ],
      "text/plain": [
       "<IPython.core.display.HTML object>"
      ]
     },
     "metadata": {},
     "output_type": "display_data"
    }
   ],
   "source": [
    "contenido_HTML = f\"<h1>Titulares del {hoy()}</h1>\\n<h3>Hora de la consulta: {ahora()}</h3>\\n<hr>\\n\"\n",
    "display(HTML(f'<h1>Titulares del {hoy()}</h1>'))\n",
    "display(HTML(f'<h4>Hora de la consulta: {ahora()}</h4>'))\n",
    "display(HTML(f'<hr>'))\n",
    "for a,b in periodicos.items():\n",
    "    contenido_HTML = consultar_titular(a,b,contenido_HTML)\n",
    "\n",
    "with open('titulares_periodico.htm', 'w', encoding='utf-8') as file:\n",
    "    file.write(f\"<!DOCTYPE html>\\n<html lang='es'>\\n<head>\\n<meta charset='utf-8'>\\n<meta name='viewport' content='width=device-width, initial-scale=1.0'>\\n<title>Titulares de periódicos</title>\\n</head>\\n<body>\\n{contenido_HTML}\\n</body>\\n</html>\")"
   ]
  }
 ],
 "metadata": {
  "kernelspec": {
   "display_name": "Python 3 (ipykernel)",
   "language": "python",
   "name": "python3"
  },
  "language_info": {
   "codemirror_mode": {
    "name": "ipython",
    "version": 3
   },
   "file_extension": ".py",
   "mimetype": "text/x-python",
   "name": "python",
   "nbconvert_exporter": "python",
   "pygments_lexer": "ipython3",
   "version": "3.12.3"
  }
 },
 "nbformat": 4,
 "nbformat_minor": 5
}
