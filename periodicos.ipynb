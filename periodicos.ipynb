{
 "cells": [
  {
   "cell_type": "markdown",
   "id": "365b83d1-bf3f-4919-b581-9ab746c93313",
   "metadata": {},
   "source": [
    "# Consulta de titulares de los periódicos\n",
    "Mediante las librerías Requests y BeautifulSoup se hace webscraping a los periódicos más destacados en España para mostrar el titular principal con el que abren sus portadas. El resultado, además de imprimirlo por pantalla, lo grabamos en un archivo.\n",
    "\n",
    "**NOTA IMPORTANTE**. Muchos diarios tienen en su aviso legal o en sus robots.txt la prohibición de hacer web scraping a sus contenidos. Con este pequeño programa solo se muestra, a efectos didácticos, cómo usar los comandos y funciones de Python en este sentido."
   ]
  },
  {
   "cell_type": "code",
   "execution_count": 2,
   "id": "a51bc1a7-7274-42eb-9d25-04d9aab815a5",
   "metadata": {},
   "outputs": [],
   "source": [
    "import requests # Para hacer la consulta\n",
    "from IPython.display import display, HTML # Para mostrar html en celdas de Jupiter Labs\n",
    "from datetime import datetime, timedelta # Para menejar fechas en Python\n",
    "from babel.dates import format_date, format_time # Para convertir las fechas y horas a español\n",
    "from bs4 import BeautifulSoup #Para tratar el html de cada periódico\n",
    "import re # Para manejar expresiones regulares"
   ]
  },
  {
   "cell_type": "code",
   "execution_count": 3,
   "id": "8ca771ec-5d3d-412f-b6c9-36a70dcf6870",
   "metadata": {},
   "outputs": [],
   "source": [
    "periodicos = {\n",
    "    'El País': 'https://elpais.com/', \n",
    "    'El Mundo':'https://www.elmundo.es/', \n",
    "    'El Español':'https://www.elespanol.com/', \n",
    "    'El Periódico de España':'https://www.epe.es/es/',\n",
    "    'ABC':'https://www.abc.es/', \n",
    "    'La Vanguardia':'https://www.lavanguardia.com/', \n",
    "    'El Periódico':'https://www.elperiodico.com/es/', \n",
    "    'El Confidencial':'https://www.elconfidencial.com/', \n",
    "    '20 Minutos':'https://www.20minutos.es/', \n",
    "    'La Razón':'https://www.larazon.es/', \n",
    "    'elDiario.es':'https://www.eldiario.es/', \n",
    "    'Público':'https://www.publico.es/', \n",
    "    'Infolibre':'https://www.infolibre.es/', \n",
    "    'El Independiente':'https://www.elindependiente.com/', \n",
    "    'El Correo de Andalucía':'https://www.elcorreoweb.es', \n",
    "    'Diario de Sevilla':'https://www.diariodesevilla.es/', \n",
    "    'ABC de Sevilla':'https://www.abc.es/sevilla/'\n",
    "}\n",
    "headers = {\n",
    "    \"User-Agent\": \"Mozilla/5.0 (Windows NT 10.0; Win64; x64) AppleWebKit/537.36 (KHTML, like Gecko) Chrome/119.0.0.0 Safari/537.36\"\n",
    "}"
   ]
  },
  {
   "cell_type": "markdown",
   "id": "2da29f34-f84a-4df8-b29c-38981b577ccc",
   "metadata": {},
   "source": [
    "### Consultar primero qué etiquetas o clases tienen los titulares\n",
    "Hay que entrar en cada web y ver con qué etiqueta (h1, h2,...) y dentro como se configura en el html. Por ejemplo, si es el primer h1 de la página (o h2), si tiene etiquetas adicionales dentro, clases, etc. para hacer la búsqueda y el muestreo correcto del titular.\n",
    "\n",
    "**NOTA:** Hay que tener igualmente en cuenta que las distintas webs de los periódicos pueden cambiar el html, y si ahora el titular de apertura es un H1, en siguientes revisiones de diseño puede ser un H2."
   ]
  },
  {
   "cell_type": "markdown",
   "id": "24ab5fcd-2cba-46f1-aa1d-7bf7e8f9b5a0",
   "metadata": {},
   "source": [
    "**Función consultar_titular(a,b)**. Esta función recibe dos argumentos string: el nombre del periódico y la URL. El resultado es que muestra el nombre del periódico y el titular principal. Aquí hacemos el request y con la respuesta y BeautifulSoup encontramos el titular. No retorna nada, solo hace toda la gestión y muestra el titular."
   ]
  },
  {
   "cell_type": "code",
   "execution_count": 6,
   "id": "95f6b737-2b4f-4ebe-b949-422859808963",
   "metadata": {},
   "outputs": [],
   "source": [
    "def consultar_titular(a,b,contenido_HTML):\n",
    "    try:\n",
    "        response = requests.get(b,headers=headers)\n",
    "        soup = BeautifulSoup(response.text,'html5lib')\n",
    "        if a == \"El Mundo\":\n",
    "            titular = soup.find_all('h2',class_='ue-c-cover-content__headline')[0].text\n",
    "            enlace = soup.find_all('h2',class_='ue-c-cover-content__headline')[0].parent.get('href')\n",
    "        elif a == \"El Español\" or a == \"Diario de Sevilla\":\n",
    "            titular = soup.find_all('h2')[0].text.strip()\n",
    "            if a == \"El Español\":\n",
    "                enlace = 'https://www.elespanol.com' + soup.find_all('h2')[0].a.get('href')\n",
    "            else:\n",
    "                enlace = soup.find_all('h2')[0].parent.get('href')\n",
    "        elif a == \"El Correo de Andalucía\" or a == \"El Confidencial\":\n",
    "            titular = soup.find_all('h1')[1].text.strip()\n",
    "            enlace = soup.find_all('h1')[1].parent.get('href')\n",
    "        elif a == \"20 Minutos\":\n",
    "            titular = soup.find_all('h1', id='')[0].a.text.strip()\n",
    "            enlace = soup.find_all('h1', id='')[0].a.get('href')\n",
    "        elif a == \"La Razón\":\n",
    "            titular = soup.find_all('h2',class_='article__title')[0].a.text.strip()\n",
    "            enlace = soup.find_all('h2',class_='article__title')[0].a.get('href')\n",
    "        elif a == \"Infolibre\":\n",
    "            titular = soup.find_all('h1')[0].text.strip()\n",
    "            enlace = 'https://www.infolibre.es' + soup.find_all('h1')[0].a.get('href')\n",
    "        else:\n",
    "            titular = soup.find_all('h2')[0].a.text.strip()\n",
    "            if a == \"El Periódico de España\":\n",
    "                enlace = 'https://www.epe.es' + soup.find_all('h2')[0].a.get('href')\n",
    "            elif a == \"La Vanguardia\": \n",
    "                enlace = 'https://www.lavanguardia.com' + soup.find_all('h2')[0].a.get('href')\n",
    "            elif a == \"El Periódico\":\n",
    "                enlace = 'https://www.elperiodico.com' + soup.find_all('h2')[0].a.get('href')\n",
    "            elif a == \"elDiario.es\":\n",
    "                enlace = 'https://www.eldiario.es' + soup.find_all('h2')[0].a.get('href')\n",
    "            elif a == \"Público\":\n",
    "                enlace = 'https://www.publico.es' + soup.find_all('h2')[0].a.get('href')\n",
    "            else:\n",
    "                enlace = soup.find_all('h2')[0].a.get('href')\n",
    "                \n",
    "        display(HTML(f'<h2>{a}</h2>'))\n",
    "        contenido_HTML += f'<h2>{a}</h2>\\n'\n",
    "        display(HTML(f'<h3 style=\"line-height:1.4\">{titular}</h3>'))\n",
    "        contenido_HTML += f'<h3 style=\"line-height:1.4\">{titular}</h3>\\n'\n",
    "        display(HTML(f'<a href=\"{enlace}\" target=\"_blank\">{enlace}</a>'))\n",
    "        contenido_HTML += f'<a href=\"{enlace}\" target=\"_blank\">{enlace}</a>\\n'\n",
    "        display(HTML(f'<hr>'))\n",
    "        contenido_HTML += f'<hr>\\n'\n",
    "    except requests.exceptions.RequestException as e:\n",
    "        print(f\"Error con {a}: {e}\")\n",
    "    except Exception as e:\n",
    "        print(f\"Error inesperado en {a}: {e}\")\n",
    "    return contenido_HTML"
   ]
  },
  {
   "cell_type": "markdown",
   "id": "67249793-d596-40f8-888a-d62487055431",
   "metadata": {},
   "source": [
    "### Aquí defino las dos funciones para formatear las fechas de hoy y la hora actual de consulta"
   ]
  },
  {
   "cell_type": "code",
   "execution_count": 8,
   "id": "20ca19c9-c44a-4e35-b054-c001725e32e2",
   "metadata": {},
   "outputs": [],
   "source": [
    "# Función que devuelve la fecha de hoy en español\n",
    "# Ejemplo: lunes 3 de febrero de 2025\n",
    "def hoy():\n",
    "    hoy = datetime.now()\n",
    "    fecha_español = format_date(hoy, format=\"full\", locale=\"es\")\n",
    "    return fecha_español\n",
    "\n",
    "# Función que devuelve la hora en este momento en español\n",
    "# Ejemplo: 14:35\n",
    "def ahora():\n",
    "    ahora = datetime.now()\n",
    "    hora_espanol = format_time(ahora, format='short', locale='es_ES')\n",
    "    return hora_espanol"
   ]
  },
  {
   "cell_type": "markdown",
   "id": "b1e1cf0d-aa39-4f65-8a76-5c9aec22d58d",
   "metadata": {},
   "source": [
    "**Bloque principal**. Mediante un bucle se va recorriendo el diccionario de periódicos y llamando a la función correspondiente para que haga el request y muestre el titular.\n",
    "\n",
    "**contenido_HTML**. En esta variable se va a ir almacenando lo que se va imprimiendo en pantalla, para después grabarlo en el fichero 'titulares-periodico.htm'.\n",
    "\n",
    "**titulares_periodico.htm**. Aquí se irá guardando todo el contenido html, desde el DOCTYPE hasta el cierre de HTML, y dentro los titulares."
   ]
  },
  {
   "cell_type": "code",
   "execution_count": 10,
   "id": "875a1d30-6015-44a7-a970-88b20b445406",
   "metadata": {},
   "outputs": [
    {
     "data": {
      "text/html": [
       "<h1>Titulares del lunes, 10 de febrero de 2025</h1>"
      ],
      "text/plain": [
       "<IPython.core.display.HTML object>"
      ]
     },
     "metadata": {},
     "output_type": "display_data"
    },
    {
     "data": {
      "text/html": [
       "<h4>Hora de la consulta: 17:20</h4>"
      ],
      "text/plain": [
       "<IPython.core.display.HTML object>"
      ]
     },
     "metadata": {},
     "output_type": "display_data"
    },
    {
     "data": {
      "text/html": [
       "<hr>"
      ],
      "text/plain": [
       "<IPython.core.display.HTML object>"
      ]
     },
     "metadata": {},
     "output_type": "display_data"
    },
    {
     "data": {
      "text/html": [
       "<h2>El País</h2>"
      ],
      "text/plain": [
       "<IPython.core.display.HTML object>"
      ]
     },
     "metadata": {},
     "output_type": "display_data"
    },
    {
     "data": {
      "text/html": [
       "<h3 style=\"line-height:1.4\">Hamás aplaza la liberación de rehenes en Gaza prevista esta semana por las “vulneraciones” de Israel al alto el fuego</h3>"
      ],
      "text/plain": [
       "<IPython.core.display.HTML object>"
      ]
     },
     "metadata": {},
     "output_type": "display_data"
    },
    {
     "data": {
      "text/html": [
       "<a href=\"https://elpais.com/internacional/2025-02-10/el-alto-el-fuego-en-gaza-en-directo.html\" target=\"_blank\">https://elpais.com/internacional/2025-02-10/el-alto-el-fuego-en-gaza-en-directo.html</a>"
      ],
      "text/plain": [
       "<IPython.core.display.HTML object>"
      ]
     },
     "metadata": {},
     "output_type": "display_data"
    },
    {
     "data": {
      "text/html": [
       "<hr>"
      ],
      "text/plain": [
       "<IPython.core.display.HTML object>"
      ]
     },
     "metadata": {},
     "output_type": "display_data"
    },
    {
     "data": {
      "text/html": [
       "<h2>El Mundo</h2>"
      ],
      "text/plain": [
       "<IPython.core.display.HTML object>"
      ]
     },
     "metadata": {},
     "output_type": "display_data"
    },
    {
     "data": {
      "text/html": [
       "<h3 style=\"line-height:1.4\">La UCO acredita que el fiscal general borró sus mensajes de Whatsapp \"hasta en dos ocasiones\" el día que el Supremo le abrió causa</h3>"
      ],
      "text/plain": [
       "<IPython.core.display.HTML object>"
      ]
     },
     "metadata": {},
     "output_type": "display_data"
    },
    {
     "data": {
      "text/html": [
       "<a href=\"https://www.elmundo.es/espana/2025/02/10/67a9d154fc6c8300658b4582.html\" target=\"_blank\">https://www.elmundo.es/espana/2025/02/10/67a9d154fc6c8300658b4582.html</a>"
      ],
      "text/plain": [
       "<IPython.core.display.HTML object>"
      ]
     },
     "metadata": {},
     "output_type": "display_data"
    },
    {
     "data": {
      "text/html": [
       "<hr>"
      ],
      "text/plain": [
       "<IPython.core.display.HTML object>"
      ]
     },
     "metadata": {},
     "output_type": "display_data"
    },
    {
     "data": {
      "text/html": [
       "<h2>El Español</h2>"
      ],
      "text/plain": [
       "<IPython.core.display.HTML object>"
      ]
     },
     "metadata": {},
     "output_type": "display_data"
    },
    {
     "data": {
      "text/html": [
       "<h3 style=\"line-height:1.4\">La UCO descubre que el fiscal general borró dos veces sus whatsapps el día que el Supremo abrió el proceso</h3>"
      ],
      "text/plain": [
       "<IPython.core.display.HTML object>"
      ]
     },
     "metadata": {},
     "output_type": "display_data"
    },
    {
     "data": {
      "text/html": [
       "<a href=\"https://www.elespanol.com/espana/tribunales/20250210/uco-descubre-fiscal-general-borro-veces-mensajes-whatsapp-dia-supremo-abrio-proceso/923157824_0.html\" target=\"_blank\">https://www.elespanol.com/espana/tribunales/20250210/uco-descubre-fiscal-general-borro-veces-mensajes-whatsapp-dia-supremo-abrio-proceso/923157824_0.html</a>"
      ],
      "text/plain": [
       "<IPython.core.display.HTML object>"
      ]
     },
     "metadata": {},
     "output_type": "display_data"
    },
    {
     "data": {
      "text/html": [
       "<hr>"
      ],
      "text/plain": [
       "<IPython.core.display.HTML object>"
      ]
     },
     "metadata": {},
     "output_type": "display_data"
    },
    {
     "data": {
      "text/html": [
       "<h2>El Periódico de España</h2>"
      ],
      "text/plain": [
       "<IPython.core.display.HTML object>"
      ]
     },
     "metadata": {},
     "output_type": "display_data"
    },
    {
     "data": {
      "text/html": [
       "<h3 style=\"line-height:1.4\">La UCO revela que el fiscal general eliminó dos veces sus mensajes telefónicos tras abrirle causa el Tribunal Supremo</h3>"
      ],
      "text/plain": [
       "<IPython.core.display.HTML object>"
      ]
     },
     "metadata": {},
     "output_type": "display_data"
    },
    {
     "data": {
      "text/html": [
       "<a href=\"https://www.epe.es/es/investigacion/20250210/uco-revela-fiscal-general-elimino-114156864\" target=\"_blank\">https://www.epe.es/es/investigacion/20250210/uco-revela-fiscal-general-elimino-114156864</a>"
      ],
      "text/plain": [
       "<IPython.core.display.HTML object>"
      ]
     },
     "metadata": {},
     "output_type": "display_data"
    },
    {
     "data": {
      "text/html": [
       "<hr>"
      ],
      "text/plain": [
       "<IPython.core.display.HTML object>"
      ]
     },
     "metadata": {},
     "output_type": "display_data"
    },
    {
     "data": {
      "text/html": [
       "<h2>ABC</h2>"
      ],
      "text/plain": [
       "<IPython.core.display.HTML object>"
      ]
     },
     "metadata": {},
     "output_type": "display_data"
    },
    {
     "data": {
      "text/html": [
       "<h3 style=\"line-height:1.4\">La UCO acredita que el fiscal general borró «hasta en dos ocasiones» los mensajes el día que el Supremo le imputó</h3>"
      ],
      "text/plain": [
       "<IPython.core.display.HTML object>"
      ]
     },
     "metadata": {},
     "output_type": "display_data"
    },
    {
     "data": {
      "text/html": [
       "<a href=\"https://www.abc.es/espana/uco-acredita-fiscal-general-borro-dos-ocasiones-20250210115853-nt.html\" target=\"_blank\">https://www.abc.es/espana/uco-acredita-fiscal-general-borro-dos-ocasiones-20250210115853-nt.html</a>"
      ],
      "text/plain": [
       "<IPython.core.display.HTML object>"
      ]
     },
     "metadata": {},
     "output_type": "display_data"
    },
    {
     "data": {
      "text/html": [
       "<hr>"
      ],
      "text/plain": [
       "<IPython.core.display.HTML object>"
      ]
     },
     "metadata": {},
     "output_type": "display_data"
    },
    {
     "data": {
      "text/html": [
       "<h2>La Vanguardia</h2>"
      ],
      "text/plain": [
       "<IPython.core.display.HTML object>"
      ]
     },
     "metadata": {},
     "output_type": "display_data"
    },
    {
     "data": {
      "text/html": [
       "<h3 style=\"line-height:1.4\">El Gobierno regularizará a más de 25.000 inmigrantes residentes en el área de la dana</h3>"
      ],
      "text/plain": [
       "<IPython.core.display.HTML object>"
      ]
     },
     "metadata": {},
     "output_type": "display_data"
    },
    {
     "data": {
      "text/html": [
       "<a href=\"https://www.lavanguardia.com/local/valencia/20250210/10371309/gobierno-regularizara-25-000-inmigrantes-afectados-dana-valencia.html\" target=\"_blank\">https://www.lavanguardia.com/local/valencia/20250210/10371309/gobierno-regularizara-25-000-inmigrantes-afectados-dana-valencia.html</a>"
      ],
      "text/plain": [
       "<IPython.core.display.HTML object>"
      ]
     },
     "metadata": {},
     "output_type": "display_data"
    },
    {
     "data": {
      "text/html": [
       "<hr>"
      ],
      "text/plain": [
       "<IPython.core.display.HTML object>"
      ]
     },
     "metadata": {},
     "output_type": "display_data"
    },
    {
     "data": {
      "text/html": [
       "<h2>El Periódico</h2>"
      ],
      "text/plain": [
       "<IPython.core.display.HTML object>"
      ]
     },
     "metadata": {},
     "output_type": "display_data"
    },
    {
     "data": {
      "text/html": [
       "<h3 style=\"line-height:1.4\">Los promotores catalanes construyeron en 2024 la mitad de los pisos necesarios para cubrir la demanda</h3>"
      ],
      "text/plain": [
       "<IPython.core.display.HTML object>"
      ]
     },
     "metadata": {},
     "output_type": "display_data"
    },
    {
     "data": {
      "text/html": [
       "<a href=\"https://www.elperiodico.com/es/vivienda/20250210/promotores-construyeron-2024-mitad-pisos-necesarios-cubrir-oferta-catalunya-114154142\" target=\"_blank\">https://www.elperiodico.com/es/vivienda/20250210/promotores-construyeron-2024-mitad-pisos-necesarios-cubrir-oferta-catalunya-114154142</a>"
      ],
      "text/plain": [
       "<IPython.core.display.HTML object>"
      ]
     },
     "metadata": {},
     "output_type": "display_data"
    },
    {
     "data": {
      "text/html": [
       "<hr>"
      ],
      "text/plain": [
       "<IPython.core.display.HTML object>"
      ]
     },
     "metadata": {},
     "output_type": "display_data"
    },
    {
     "data": {
      "text/html": [
       "<h2>El Confidencial</h2>"
      ],
      "text/plain": [
       "<IPython.core.display.HTML object>"
      ]
     },
     "metadata": {},
     "output_type": "display_data"
    },
    {
     "data": {
      "text/html": [
       "<h3 style=\"line-height:1.4\">La jueza pide recabar de la Moncloa datos del asesor que acabó como ayudante del hermano de Sánchez</h3>"
      ],
      "text/plain": [
       "<IPython.core.display.HTML object>"
      ]
     },
     "metadata": {},
     "output_type": "display_data"
    },
    {
     "data": {
      "text/html": [
       "<a href=\"https://www.elconfidencial.com/espana/2025-02-10/la-jueza-pide-a-la-uco-recabar-de-moncloa-datos-del-asesor-que-acabo-de-ayudante-del-hermano-de-sanchez_4061461/\" target=\"_blank\">https://www.elconfidencial.com/espana/2025-02-10/la-jueza-pide-a-la-uco-recabar-de-moncloa-datos-del-asesor-que-acabo-de-ayudante-del-hermano-de-sanchez_4061461/</a>"
      ],
      "text/plain": [
       "<IPython.core.display.HTML object>"
      ]
     },
     "metadata": {},
     "output_type": "display_data"
    },
    {
     "data": {
      "text/html": [
       "<hr>"
      ],
      "text/plain": [
       "<IPython.core.display.HTML object>"
      ]
     },
     "metadata": {},
     "output_type": "display_data"
    },
    {
     "data": {
      "text/html": [
       "<h2>20 Minutos</h2>"
      ],
      "text/plain": [
       "<IPython.core.display.HTML object>"
      ]
     },
     "metadata": {},
     "output_type": "display_data"
    },
    {
     "data": {
      "text/html": [
       "<h3 style=\"line-height:1.4\">La Guardia Civil acredita que García Ortiz borró mensajes de su WhatsApp el mismo día que el Supremo le abrió la causa</h3>"
      ],
      "text/plain": [
       "<IPython.core.display.HTML object>"
      ]
     },
     "metadata": {},
     "output_type": "display_data"
    },
    {
     "data": {
      "text/html": [
       "<a href=\"https://www.20minutos.es/noticia/5680833/0/uco-senala-garcia-ortiz-borro-todos-whatsapps-intencionada-dia-imputacion/\" target=\"_blank\">https://www.20minutos.es/noticia/5680833/0/uco-senala-garcia-ortiz-borro-todos-whatsapps-intencionada-dia-imputacion/</a>"
      ],
      "text/plain": [
       "<IPython.core.display.HTML object>"
      ]
     },
     "metadata": {},
     "output_type": "display_data"
    },
    {
     "data": {
      "text/html": [
       "<hr>"
      ],
      "text/plain": [
       "<IPython.core.display.HTML object>"
      ]
     },
     "metadata": {},
     "output_type": "display_data"
    },
    {
     "data": {
      "text/html": [
       "<h2>La Razón</h2>"
      ],
      "text/plain": [
       "<IPython.core.display.HTML object>"
      ]
     },
     "metadata": {},
     "output_type": "display_data"
    },
    {
     "data": {
      "text/html": [
       "<h3 style=\"line-height:1.4\">La UCO constata un \"borrado intencionado\" del móvil del fiscal general el mismo día que el Supremo le abrió causa</h3>"
      ],
      "text/plain": [
       "<IPython.core.display.HTML object>"
      ]
     },
     "metadata": {},
     "output_type": "display_data"
    },
    {
     "data": {
      "text/html": [
       "<a href=\"https://www.larazon.es/espana/uco-constata-borrado-intencionado-movil-fiscal-general-mismo-dia-que-supremo-abrio-causa_2025021067a9d94e0b2ad20001b91e0d.html\" target=\"_blank\">https://www.larazon.es/espana/uco-constata-borrado-intencionado-movil-fiscal-general-mismo-dia-que-supremo-abrio-causa_2025021067a9d94e0b2ad20001b91e0d.html</a>"
      ],
      "text/plain": [
       "<IPython.core.display.HTML object>"
      ]
     },
     "metadata": {},
     "output_type": "display_data"
    },
    {
     "data": {
      "text/html": [
       "<hr>"
      ],
      "text/plain": [
       "<IPython.core.display.HTML object>"
      ]
     },
     "metadata": {},
     "output_type": "display_data"
    },
    {
     "data": {
      "text/html": [
       "<h2>elDiario.es</h2>"
      ],
      "text/plain": [
       "<IPython.core.display.HTML object>"
      ]
     },
     "metadata": {},
     "output_type": "display_data"
    },
    {
     "data": {
      "text/html": [
       "<h3 style=\"line-height:1.4\">La Guardia Civil certifica que García Ortiz no habló con periodistas la noche de la filtración del correo de la pareja de Ayuso</h3>"
      ],
      "text/plain": [
       "<IPython.core.display.HTML object>"
      ]
     },
     "metadata": {},
     "output_type": "display_data"
    },
    {
     "data": {
      "text/html": [
       "<a href=\"https://www.eldiario.es/politica/guardia-civil-certifica-garcia-ortiz-no-hablo-nadie-fiscalia-noche-filtracion_1_12039969.html\" target=\"_blank\">https://www.eldiario.es/politica/guardia-civil-certifica-garcia-ortiz-no-hablo-nadie-fiscalia-noche-filtracion_1_12039969.html</a>"
      ],
      "text/plain": [
       "<IPython.core.display.HTML object>"
      ]
     },
     "metadata": {},
     "output_type": "display_data"
    },
    {
     "data": {
      "text/html": [
       "<hr>"
      ],
      "text/plain": [
       "<IPython.core.display.HTML object>"
      ]
     },
     "metadata": {},
     "output_type": "display_data"
    },
    {
     "data": {
      "text/html": [
       "<h2>Público</h2>"
      ],
      "text/plain": [
       "<IPython.core.display.HTML object>"
      ]
     },
     "metadata": {},
     "output_type": "display_data"
    },
    {
     "data": {
      "text/html": [
       "<h3 style=\"line-height:1.4\">El juzgado denegó medidas de protección a la mujer asesinada en Benalmádena pese a la petición de la Policía</h3>"
      ],
      "text/plain": [
       "<IPython.core.display.HTML object>"
      ]
     },
     "metadata": {},
     "output_type": "display_data"
    },
    {
     "data": {
      "text/html": [
       "<a href=\"https://www.publico.es/mujer/violencia-machista/juzgado-denego-medidas-proteccion-mujer-asesinada-benalmadena-pese-peticion-policia.html\" target=\"_blank\">https://www.publico.es/mujer/violencia-machista/juzgado-denego-medidas-proteccion-mujer-asesinada-benalmadena-pese-peticion-policia.html</a>"
      ],
      "text/plain": [
       "<IPython.core.display.HTML object>"
      ]
     },
     "metadata": {},
     "output_type": "display_data"
    },
    {
     "data": {
      "text/html": [
       "<hr>"
      ],
      "text/plain": [
       "<IPython.core.display.HTML object>"
      ]
     },
     "metadata": {},
     "output_type": "display_data"
    },
    {
     "data": {
      "text/html": [
       "<h2>Infolibre</h2>"
      ],
      "text/plain": [
       "<IPython.core.display.HTML object>"
      ]
     },
     "metadata": {},
     "output_type": "display_data"
    },
    {
     "data": {
      "text/html": [
       "<h3 style=\"line-height:1.4\">El fiscal general no habló con periodistas la noche de la filtración del correo del novio de Ayuso</h3>"
      ],
      "text/plain": [
       "<IPython.core.display.HTML object>"
      ]
     },
     "metadata": {},
     "output_type": "display_data"
    },
    {
     "data": {
      "text/html": [
       "<a href=\"https://www.infolibre.es/politica/fiscal-general-no-hablo-periodistas-noche-filtracion-correo-novio-ayuso_1_1942617.html\" target=\"_blank\">https://www.infolibre.es/politica/fiscal-general-no-hablo-periodistas-noche-filtracion-correo-novio-ayuso_1_1942617.html</a>"
      ],
      "text/plain": [
       "<IPython.core.display.HTML object>"
      ]
     },
     "metadata": {},
     "output_type": "display_data"
    },
    {
     "data": {
      "text/html": [
       "<hr>"
      ],
      "text/plain": [
       "<IPython.core.display.HTML object>"
      ]
     },
     "metadata": {},
     "output_type": "display_data"
    },
    {
     "data": {
      "text/html": [
       "<h2>El Independiente</h2>"
      ],
      "text/plain": [
       "<IPython.core.display.HTML object>"
      ]
     },
     "metadata": {},
     "output_type": "display_data"
    },
    {
     "data": {
      "text/html": [
       "<h3 style=\"line-height:1.4\">El fiscal general borró mensajes \"hasta en dos ocasiones\" el día que el Supremo abrió la causa contra él</h3>"
      ],
      "text/plain": [
       "<IPython.core.display.HTML object>"
      ]
     },
     "metadata": {},
     "output_type": "display_data"
    },
    {
     "data": {
      "text/html": [
       "<a href=\"https://www.elindependiente.com/espana/2025/02/10/la-uco-acredita-que-el-fiscal-general-borro-mensajes-sobre-la-filtracion-del-novio-de-ayuso/\" target=\"_blank\">https://www.elindependiente.com/espana/2025/02/10/la-uco-acredita-que-el-fiscal-general-borro-mensajes-sobre-la-filtracion-del-novio-de-ayuso/</a>"
      ],
      "text/plain": [
       "<IPython.core.display.HTML object>"
      ]
     },
     "metadata": {},
     "output_type": "display_data"
    },
    {
     "data": {
      "text/html": [
       "<hr>"
      ],
      "text/plain": [
       "<IPython.core.display.HTML object>"
      ]
     },
     "metadata": {},
     "output_type": "display_data"
    },
    {
     "data": {
      "text/html": [
       "<h2>El Correo de Andalucía</h2>"
      ],
      "text/plain": [
       "<IPython.core.display.HTML object>"
      ]
     },
     "metadata": {},
     "output_type": "display_data"
    },
    {
     "data": {
      "text/html": [
       "<h3 style=\"line-height:1.4\">El Gobierno expropiará el hotel de El Algarrobico para su demolición tras 20 años de litigios judiciales</h3>"
      ],
      "text/plain": [
       "<IPython.core.display.HTML object>"
      ]
     },
     "metadata": {},
     "output_type": "display_data"
    },
    {
     "data": {
      "text/html": [
       "<a href=\"https://www.elcorreoweb.es/andalucia/2025/02/10/gobierno-expropiara-algarrobico-demolicion-20-114158291.html\" target=\"_blank\">https://www.elcorreoweb.es/andalucia/2025/02/10/gobierno-expropiara-algarrobico-demolicion-20-114158291.html</a>"
      ],
      "text/plain": [
       "<IPython.core.display.HTML object>"
      ]
     },
     "metadata": {},
     "output_type": "display_data"
    },
    {
     "data": {
      "text/html": [
       "<hr>"
      ],
      "text/plain": [
       "<IPython.core.display.HTML object>"
      ]
     },
     "metadata": {},
     "output_type": "display_data"
    },
    {
     "data": {
      "text/html": [
       "<h2>Diario de Sevilla</h2>"
      ],
      "text/plain": [
       "<IPython.core.display.HTML object>"
      ]
     },
     "metadata": {},
     "output_type": "display_data"
    },
    {
     "data": {
      "text/html": [
       "<h3 style=\"line-height:1.4\">La Junta compra mil cien hectáreas de marisma junto a Doñana</h3>"
      ],
      "text/plain": [
       "<IPython.core.display.HTML object>"
      ]
     },
     "metadata": {},
     "output_type": "display_data"
    },
    {
     "data": {
      "text/html": [
       "<a href=\"https://www.diariodesevilla.es/andalucia/junta-compra-mil-cien-hectareas_0_2003311941.html\" target=\"_blank\">https://www.diariodesevilla.es/andalucia/junta-compra-mil-cien-hectareas_0_2003311941.html</a>"
      ],
      "text/plain": [
       "<IPython.core.display.HTML object>"
      ]
     },
     "metadata": {},
     "output_type": "display_data"
    },
    {
     "data": {
      "text/html": [
       "<hr>"
      ],
      "text/plain": [
       "<IPython.core.display.HTML object>"
      ]
     },
     "metadata": {},
     "output_type": "display_data"
    },
    {
     "data": {
      "text/html": [
       "<h2>ABC de Sevilla</h2>"
      ],
      "text/plain": [
       "<IPython.core.display.HTML object>"
      ]
     },
     "metadata": {},
     "output_type": "display_data"
    },
    {
     "data": {
      "text/html": [
       "<h3 style=\"line-height:1.4\">La Junta de Andalucía comprará la finca Tierras Bajas y ampliará 8.700 hectáreas los terrenos de Doñana</h3>"
      ],
      "text/plain": [
       "<IPython.core.display.HTML object>"
      ]
     },
     "metadata": {},
     "output_type": "display_data"
    },
    {
     "data": {
      "text/html": [
       "<a href=\"https://www.abc.es/espana/andalucia/junta-andalucia-compra-finca-tierras-bajas-amplia-20250210135221-nts.html\" target=\"_blank\">https://www.abc.es/espana/andalucia/junta-andalucia-compra-finca-tierras-bajas-amplia-20250210135221-nts.html</a>"
      ],
      "text/plain": [
       "<IPython.core.display.HTML object>"
      ]
     },
     "metadata": {},
     "output_type": "display_data"
    },
    {
     "data": {
      "text/html": [
       "<hr>"
      ],
      "text/plain": [
       "<IPython.core.display.HTML object>"
      ]
     },
     "metadata": {},
     "output_type": "display_data"
    }
   ],
   "source": [
    "contenido_HTML = f\"<h1>Titulares del {hoy()}</h1>\\n<h3>Hora de la consulta: {ahora()}</h3>\\n<hr>\\n\"\n",
    "display(HTML(f'<h1>Titulares del {hoy()}</h1>'))\n",
    "display(HTML(f'<h4>Hora de la consulta: {ahora()}</h4>'))\n",
    "display(HTML(f'<hr>'))\n",
    "for a,b in periodicos.items():\n",
    "    contenido_HTML = consultar_titular(a,b,contenido_HTML)\n",
    "\n",
    "with open('titulares_periodico.htm', 'w', encoding='utf-8') as file:\n",
    "    file.write(f\"<!DOCTYPE html>\\n<html lang='es'>\\n<head>\\n<meta charset='utf-8'>\\n<meta name='viewport' content='width=device-width, initial-scale=1.0'>\\n<title>Titulares de periódicos</title>\\n</head>\\n<body>\\n{contenido_HTML}\\n</body>\\n</html>\")"
   ]
  }
 ],
 "metadata": {
  "kernelspec": {
   "display_name": "Python 3 (ipykernel)",
   "language": "python",
   "name": "python3"
  },
  "language_info": {
   "codemirror_mode": {
    "name": "ipython",
    "version": 3
   },
   "file_extension": ".py",
   "mimetype": "text/x-python",
   "name": "python",
   "nbconvert_exporter": "python",
   "pygments_lexer": "ipython3",
   "version": "3.12.3"
  }
 },
 "nbformat": 4,
 "nbformat_minor": 5
}
