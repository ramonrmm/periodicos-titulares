{
 "cells": [
  {
   "cell_type": "code",
   "execution_count": 10,
   "id": "a51bc1a7-7274-42eb-9d25-04d9aab815a5",
   "metadata": {},
   "outputs": [],
   "source": [
    "import requests # Para hacer la consulta\n",
    "from IPython.display import display, HTML # Para mostrar html en celdas de Jupiter Labs\n",
    "from datetime import datetime, timedelta # Para menejar fechas en Python\n",
    "from babel.dates import format_date # Para convertir las fechas a español\n",
    "from bs4 import BeautifulSoup #Para tratar el html de cada periódico"
   ]
  },
  {
   "cell_type": "code",
   "execution_count": null,
   "id": "efd956fa-9551-44af-8dbd-4ca9d66b64a0",
   "metadata": {},
   "outputs": [],
   "source": []
  },
  {
   "cell_type": "code",
   "execution_count": 24,
   "id": "8ca771ec-5d3d-412f-b6c9-36a70dcf6870",
   "metadata": {},
   "outputs": [],
   "source": [
    "periodicos = {\n",
    "    'El País': 'https://elpais.com/', \n",
    "    'El Mundo':'https://www.elmundo.es/', \n",
    "    'El Español':'https://www.elespanol.com/', \n",
    "    'El Periódico de España':'https://www.epe.es/es/',\n",
    "    'ABC':'https://www.abc.es/', \n",
    "    'La Vanguardia':'https://www.lavanguardia.com/', \n",
    "    'El Periódico':'https://www.elperiodico.com/es/', \n",
    "    'El Confidencial':'https://www.elconfidencial.com/', \n",
    "    '20 Minutos':'https://www.20minutos.es/', \n",
    "    'La Razón':'https://www.larazon.es/', \n",
    "    'elDiario.es':'https://www.eldiario.es/', \n",
    "    'Público':'https://www.publico.es/', \n",
    "    'Infolibre':'https://www.infolibre.es/', \n",
    "    'El Independiente':'https://www.elindependiente.com/', \n",
    "    'El Correo de Andalucía':'https://www.elcorreoweb.es', \n",
    "    'Diario de Sevilla':'https://www.diariodesevilla.es/', \n",
    "    'ABC de Sevilla':'https://www.abc.es/sevilla/'\n",
    "}\n",
    "headers = {\n",
    "    \"User-Agent\": \"Mozilla/5.0 (Windows NT 10.0; Win64; x64) AppleWebKit/537.36 (KHTML, like Gecko) Chrome/119.0.0.0 Safari/537.36\"\n",
    "}"
   ]
  },
  {
   "cell_type": "code",
   "execution_count": 38,
   "id": "95f6b737-2b4f-4ebe-b949-422859808963",
   "metadata": {},
   "outputs": [],
   "source": [
    "def consultar_titular(a,b):\n",
    "    response = requests.get(b,headers=headers)\n",
    "    soup = BeautifulSoup(response.text,'html5lib')\n",
    "    if a == \"El Mundo\":\n",
    "        titular = soup.find_all('h2',class_='ue-c-cover-content__headline')[0].text\n",
    "    elif a == \"El Español\" or a == \"Diario de Sevilla\" or a == \"El Confidencial\":\n",
    "        titular = soup.find_all('h2')[0].text.strip()\n",
    "    elif a == \"El Correo de Andalucía\":\n",
    "        titular = soup.find_all('h1')[1].text.strip()\n",
    "    elif a == \"20 Minutos\":\n",
    "        titular = soup.find_all('h1', id='')[0].a.text.strip()\n",
    "    elif a == \"La Razón\":\n",
    "        titular = soup.find_all('h2',class_='article__title')[0].a.text.strip()\n",
    "    elif a == \"Infolibre\":\n",
    "        titular = soup.find_all('h1')[0].text.strip()\n",
    "    else:\n",
    "        titular = soup.find_all('h2')[0].a.text.strip()\n",
    "    print(a.upper())\n",
    "    print(titular)\n",
    "    print()\n",
    "    return    "
   ]
  },
  {
   "cell_type": "code",
   "execution_count": 40,
   "id": "875a1d30-6015-44a7-a970-88b20b445406",
   "metadata": {},
   "outputs": [
    {
     "name": "stdout",
     "output_type": "stream",
     "text": [
      "EL PAÍS\n",
      "Los palestinos condenan el plan de Trump para Gaza: “Son declaraciones agresivas y echarán leña al fuego”\n",
      "\n",
      "EL MUNDO\n",
      "El hermano de Pedro Sánchez renuncia a su puesto en la Diputación de Badajoz en plena investigación judicial\n",
      "\n",
      "EL ESPAÑOL\n",
      "El hermano de Sánchez renuncia a su puesto en la Diputación de Badajoz con el preaviso legal de 3 meses\n",
      "\n",
      "EL PERIÓDICO DE ESPAÑA\n",
      "Ronaldo y Shakira, precedentes para la Abogacía que justifican la difusión de la nota de prensa sobre el novio de Ayuso\n",
      "\n",
      "ABC\n",
      "El hermano de Pedro Sánchez dimite de su puesto en la Diputación de Badajoz\n",
      "\n",
      "LA VANGUARDIA\n",
      "El director de la CIA ofrece a su personal ocho meses de sueldo a cambio de su dimisión\n",
      "\n",
      "EL PERIÓDICO\n",
      "El plan Trump para apoderarse de Gaza: una cortina de humo ilegal y poco viable para liquidar la causa palestina\n",
      "\n",
      "EL CONFIDENCIAL\n",
      "El fiscal general reconoce ante el juez que \"se cometió un error\" con el casodel novio de Ayuso\n",
      "\n",
      "20 MINUTOS\n",
      "La comunidad mundial rechaza que EEUU controle Gaza y expulse a los palestinos, con la excepción de Israel y el silencio de Putin\n",
      "\n",
      "LA RAZÓN\n",
      "García-Page: \"Aldama es una bomba de racimo\"\n",
      "\n",
      "ELDIARIO.ES\n",
      "La ONU advierte a Trump sobre su plan para Gaza: “Toda deportación desde territorio ocupado está prohibida”\n",
      "\n",
      "PÚBLICO\n",
      "Sánchez apuesta por blindar los derechos digitales para hacer frente a Musk y la \"tecnocasta\"\n",
      "\n",
      "INFOLIBRE\n",
      "Progresistas y conservadores coinciden en que los jueces voten en cada renovación del CGPJ\n",
      "\n",
      "EL INDEPENDIENTE\n",
      "El hermano de Pedro Sánchez renuncia a su trabajo en la Diputación de Badajoz en plena investigación\n",
      "\n",
      "EL CORREO DE ANDALUCÍA\n",
      "La Guardia Civil detiene a un hombre después de confesar haber matado a una mujer en Brenes\n",
      "\n",
      "DIARIO DE SEVILLA\n",
      "Matan a una mujer de una puñalada en una casa de Brenes\n",
      "\n",
      "ABC DE SEVILLA\n",
      "El hermano de Pedro Sánchez dimite de su puesto en la Diputación de Badajoz\n",
      "\n"
     ]
    }
   ],
   "source": [
    "for a,b in periodicos.items():\n",
    "    consultar_titular(a,b)"
   ]
  }
 ],
 "metadata": {
  "kernelspec": {
   "display_name": "Python 3 (ipykernel)",
   "language": "python",
   "name": "python3"
  },
  "language_info": {
   "codemirror_mode": {
    "name": "ipython",
    "version": 3
   },
   "file_extension": ".py",
   "mimetype": "text/x-python",
   "name": "python",
   "nbconvert_exporter": "python",
   "pygments_lexer": "ipython3",
   "version": "3.12.3"
  }
 },
 "nbformat": 4,
 "nbformat_minor": 5
}
