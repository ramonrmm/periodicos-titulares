{
 "cells": [
  {
   "cell_type": "code",
   "execution_count": 6,
   "id": "a51bc1a7-7274-42eb-9d25-04d9aab815a5",
   "metadata": {},
   "outputs": [],
   "source": [
    "from bs4 import BeautifulSoup\n",
    "import requests"
   ]
  },
  {
   "cell_type": "code",
   "execution_count": null,
   "id": "8ca771ec-5d3d-412f-b6c9-36a70dcf6870",
   "metadata": {},
   "outputs": [],
   "source": [
    "periodicos = {\n",
    "    'El País': 'https://elpais.com/', #h2\n",
    "    'El Mundo':'https://www.elmundo.es/', #h2\n",
    "    'El Español':'https://www.elespanol.com/', #h2\n",
    "    'ABC':'https://www.abc.es/', #h2\n",
    "    'La Vanguardia':'https://www.lavanguardia.com/', #h2\n",
    "    'El Periódico':'https://www.elperiodico.com/es/', #h2\n",
    "    'El Confidencial':'https://www.elconfidencial.com/', #h1\n",
    "    '20 Minutos':'https://www.20minutos.es/', #h1\n",
    "    'La Razón':'https://www.larazon.es/', #h2\n",
    "    'elDiario.es':'https://www.eldiario.es/', #h2\n",
    "    'Público':'https://www.publico.es/', #h2\n",
    "    'Infolibre':'https://www.infolibre.es/', #h1\n",
    "    'El Independiente':'https://www.elindependiente.com/', #h2\n",
    "    'El Correo de Andalucía':'https://www.elcorreoweb.es', #h1\n",
    "    'Diario de Sevilla':'https://www.diariodesevilla.es/', #h2\n",
    "    'ABC de Sevilla':'https://www.abc.es/sevilla/' #h2\n",
    "}\n"
   ]
  },
  {
   "cell_type": "code",
   "execution_count": 75,
   "id": "107dd00f-8d67-41c9-8d56-803c349f62ae",
   "metadata": {},
   "outputs": [],
   "source": [
    "headers = {\n",
    "    \"User-Agent\": \"Mozilla/5.0 (Windows NT 10.0; Win64; x64) AppleWebKit/537.36 (KHTML, like Gecko) Chrome/119.0.0.0 Safari/537.36\"\n",
    "}"
   ]
  },
  {
   "cell_type": "code",
   "execution_count": 117,
   "id": "adab4885-763f-4642-b8e1-cf3bead8b527",
   "metadata": {},
   "outputs": [],
   "source": [
    "response = requests.get('https://www.elconfidencial.com/', headers=headers)\n",
    "soup = BeautifulSoup(response.text,'html5lib')"
   ]
  },
  {
   "cell_type": "code",
   "execution_count": 127,
   "id": "e65c8f4d-1a42-4e9d-8d8d-17fb607469fc",
   "metadata": {},
   "outputs": [
    {
     "data": {
      "text/plain": [
       "'Trump reclama el control de Gaza, echar a los palestinos y hacer la \"Riviera de Oriente Medio\"'"
      ]
     },
     "execution_count": 127,
     "metadata": {},
     "output_type": "execute_result"
    }
   ],
   "source": [
    "soup.find_all('h1')[1].text.strip()"
   ]
  },
  {
   "cell_type": "code",
   "execution_count": 161,
   "id": "c05d2a0c-f8cd-4461-922b-d969c1988f0b",
   "metadata": {},
   "outputs": [],
   "source": [
    "response = requests.get('https://www.eldiario.es/', headers=headers)\n",
    "soup = BeautifulSoup(response.text,'html5lib')"
   ]
  },
  {
   "cell_type": "code",
   "execution_count": 167,
   "id": "10d3e8bf-2749-43b2-9d0d-80abf945d43c",
   "metadata": {},
   "outputs": [
    {
     "data": {
      "text/plain": [
       "'La ONU advierte a Trump sobre su plan para Gaza: “Toda deportación desde territorio ocupado está prohibida”'"
      ]
     },
     "execution_count": 167,
     "metadata": {},
     "output_type": "execute_result"
    }
   ],
   "source": [
    "soup.find_all('h2')[0].a.text.strip()"
   ]
  },
  {
   "cell_type": "code",
   "execution_count": 146,
   "id": "372c50cd-49e5-4b73-8c92-26943129c1ab",
   "metadata": {},
   "outputs": [],
   "source": [
    "response = requests.get('https://www.larazon.es/', headers=headers)\n",
    "soup = BeautifulSoup(response.text,'html5lib')"
   ]
  },
  {
   "cell_type": "code",
   "execution_count": 158,
   "id": "b99a37b4-3719-48c1-bbf4-58f176e81ff7",
   "metadata": {},
   "outputs": [
    {
     "data": {
      "text/plain": [
       "'García-Page: \"Aldama es una bomba de racimo\"'"
      ]
     },
     "execution_count": 158,
     "metadata": {},
     "output_type": "execute_result"
    }
   ],
   "source": [
    "soup.find_all('h2',class_='article__title')[0].a.text.strip()"
   ]
  },
  {
   "cell_type": "code",
   "execution_count": 129,
   "id": "637d9146-1bca-4941-bfde-16ef8569e534",
   "metadata": {},
   "outputs": [],
   "source": [
    "response = requests.get('https://www.20minutos.es/', headers=headers)\n",
    "soup =  BeautifulSoup(response.text,'html5lib')"
   ]
  },
  {
   "cell_type": "code",
   "execution_count": 143,
   "id": "fc94ebac-c18a-445f-954a-e67fe4a26653",
   "metadata": {},
   "outputs": [
    {
     "data": {
      "text/plain": [
       "'La comunidad mundial rechaza que EEUU controle Gaza y expulse a los palestinos, con la excepción de Israel y el silencio de Putin'"
      ]
     },
     "execution_count": 143,
     "metadata": {},
     "output_type": "execute_result"
    }
   ],
   "source": [
    "soup.find_all('h1', id='')[0].a.text.strip()"
   ]
  },
  {
   "cell_type": "code",
   "execution_count": 103,
   "id": "1a6cebe9-abbc-466c-8d97-10cb176e8981",
   "metadata": {},
   "outputs": [],
   "source": [
    "response = requests.get('https://www.elperiodico.com/es/', headers=headers)\n",
    "soup = BeautifulSoup(response.text,'html5lib')"
   ]
  },
  {
   "cell_type": "code",
   "execution_count": 113,
   "id": "705aa6de-bdea-43ba-8f81-f6184258bba8",
   "metadata": {},
   "outputs": [
    {
     "data": {
      "text/plain": [
       "\"El primer año de implantación del 'modelo Barnahus' casi triplica la detección de maltrato sexual infantil en Catalunya\""
      ]
     },
     "execution_count": 113,
     "metadata": {},
     "output_type": "execute_result"
    }
   ],
   "source": [
    "soup.find_all('h2')[0].a.text.strip()"
   ]
  },
  {
   "cell_type": "code",
   "execution_count": 14,
   "id": "6fd2337b-78d6-40fe-8677-4965af24a5e8",
   "metadata": {},
   "outputs": [],
   "source": [
    "response = requests.get('https://www.elindependiente.com/')"
   ]
  },
  {
   "cell_type": "code",
   "execution_count": 18,
   "id": "2e3983f8-7e60-406c-91ef-2f6603ca52f9",
   "metadata": {},
   "outputs": [],
   "source": [
    "soup = BeautifulSoup(response.text,'html5lib')"
   ]
  },
  {
   "cell_type": "code",
   "execution_count": 36,
   "id": "0753ce99-abcd-4ab8-9207-c3fca3069b5e",
   "metadata": {},
   "outputs": [
    {
     "data": {
      "text/plain": [
       "'La Guardia Civil detiene a varias personas por un nuevo fraude de hidrocarburos de 184 millones en la Audiencia Nacional'"
      ]
     },
     "execution_count": 36,
     "metadata": {},
     "output_type": "execute_result"
    }
   ],
   "source": [
    "soup.find_all('h2')[0].a.text"
   ]
  },
  {
   "cell_type": "code",
   "execution_count": 41,
   "id": "3d584f52-c78b-4b25-82b2-0f90261e2a27",
   "metadata": {},
   "outputs": [],
   "source": [
    "response = requests.get('https://www.elmundo.es/')"
   ]
  },
  {
   "cell_type": "code",
   "execution_count": 45,
   "id": "41eb1949-6d07-4c9e-9805-828fb90c4ad2",
   "metadata": {},
   "outputs": [],
   "source": [
    "soup = BeautifulSoup(response.text,'html5lib')"
   ]
  },
  {
   "cell_type": "code",
   "execution_count": 57,
   "id": "9b864688-af65-4a2e-95ca-08944b17384f",
   "metadata": {},
   "outputs": [
    {
     "data": {
      "text/plain": [
       "'El fiscal general defendió ante el juez que \"borró todo\" de su teléfono porque es su \"libre derecho\" y por \"imposición legal\"'"
      ]
     },
     "execution_count": 57,
     "metadata": {},
     "output_type": "execute_result"
    }
   ],
   "source": [
    "soup.find_all('h2',class_='ue-c-cover-content__headline')[0].text"
   ]
  },
  {
   "cell_type": "code",
   "execution_count": 77,
   "id": "71d40cca-a15c-4231-8b2c-9dc729fa277c",
   "metadata": {},
   "outputs": [],
   "source": [
    "response = requests.get('https://www.abc.es/',headers=headers)\n",
    "soup = BeautifulSoup(response.text,'html5lib')"
   ]
  },
  {
   "cell_type": "code",
   "execution_count": 87,
   "id": "f0e3c33f-8ccd-43a1-9207-1e6d5908a0d7",
   "metadata": {},
   "outputs": [
    {
     "data": {
      "text/plain": [
       "'La ONU recuerda a Trump que el traslado forzoso de palestinos está «estrictamente prohibido»'"
      ]
     },
     "execution_count": 87,
     "metadata": {},
     "output_type": "execute_result"
    }
   ],
   "source": [
    "soup.find_all('h2')[0].text.strip()"
   ]
  },
  {
   "cell_type": "code",
   "execution_count": 89,
   "id": "9f94ebad-fc02-417f-9b6d-5b20216ef2af",
   "metadata": {},
   "outputs": [],
   "source": [
    "response = requests.get('https://www.lavanguardia.com/',headers=headers)\n",
    "soup = BeautifulSoup(response.text,'html5lib')"
   ]
  },
  {
   "cell_type": "code",
   "execution_count": 101,
   "id": "f5cb4328-de84-47ca-b105-e128a2409fe4",
   "metadata": {},
   "outputs": [
    {
     "data": {
      "text/plain": [
       "'El director de la CIA ofrece a su personal ocho meses de sueldo a cambio de su dimisión'"
      ]
     },
     "execution_count": 101,
     "metadata": {},
     "output_type": "execute_result"
    }
   ],
   "source": [
    "soup.find_all('h2')[0].a.text.strip()"
   ]
  },
  {
   "cell_type": "code",
   "execution_count": null,
   "id": "8795e5ff-3788-4707-a872-2c1a55f318d2",
   "metadata": {},
   "outputs": [],
   "source": [
    "response = requests.get('https://www.elespanol.com/')\n",
    "soup = BeautifulSoup(response.text,'html5lib')"
   ]
  },
  {
   "cell_type": "code",
   "execution_count": null,
   "id": "9fe9ffd1-78d3-483a-a27e-5bdec01064bf",
   "metadata": {},
   "outputs": [],
   "source": []
  },
  {
   "cell_type": "code",
   "execution_count": 65,
   "id": "ee1ad4cc-d777-4a87-8d50-c7cd57b83d92",
   "metadata": {},
   "outputs": [
    {
     "data": {
      "text/plain": [
       "'García Ortiz, al juez: \"Los datos de mi móvil son ultrasensibles. Los borro por una imposición legal\"'"
      ]
     },
     "execution_count": 65,
     "metadata": {},
     "output_type": "execute_result"
    }
   ],
   "source": [
    "soup.find_all('h2')[0].text.strip()"
   ]
  },
  {
   "cell_type": "code",
   "execution_count": null,
   "id": "7eff1979-3cd3-4212-83b1-14c1caf5a7a2",
   "metadata": {},
   "outputs": [],
   "source": []
  }
 ],
 "metadata": {
  "kernelspec": {
   "display_name": "Python 3 (ipykernel)",
   "language": "python",
   "name": "python3"
  },
  "language_info": {
   "codemirror_mode": {
    "name": "ipython",
    "version": 3
   },
   "file_extension": ".py",
   "mimetype": "text/x-python",
   "name": "python",
   "nbconvert_exporter": "python",
   "pygments_lexer": "ipython3",
   "version": "3.12.3"
  }
 },
 "nbformat": 4,
 "nbformat_minor": 5
}
